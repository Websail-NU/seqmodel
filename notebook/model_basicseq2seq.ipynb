{
 "cells": [
  {
   "cell_type": "code",
   "execution_count": 1,
   "metadata": {
    "collapsed": true
   },
   "outputs": [],
   "source": [
    "import sys\n",
    "import time\n",
    "import tensorflow as tf\n",
    "import numpy as np\n",
    "sys.path.insert(0, '../')\n",
    "%load_ext autoreload\n",
    "%autoreload 2"
   ]
  },
  {
   "cell_type": "code",
   "execution_count": 2,
   "metadata": {
    "collapsed": false
   },
   "outputs": [],
   "source": [
    "from seqmodel.bunch import Bunch\n",
    "from seqmodel import model\n",
    "from seqmodel import data"
   ]
  },
  {
   "cell_type": "code",
   "execution_count": 3,
   "metadata": {
    "collapsed": false
   },
   "outputs": [
    {
     "name": "stdout",
     "output_type": "stream",
     "text": [
      "model/shared_embedding:0, (15, 10)\n",
      "model/shared_rnn/rnn/basic_lstm_cell/weights:0, (20, 40)\n",
      "model/shared_rnn/rnn/basic_lstm_cell/biases:0, (40,)\n",
      "model/decoder_rnn/logit_b:0, (15,)\n"
     ]
    }
   ],
   "source": [
    "tf.reset_default_graph()\n",
    "model_opt = model.seq2seq_model.BasicSeq2SeqModel.default_opt()\n",
    "model_opt.embedding.decoder_dim = 10\n",
    "model_opt.embedding.encoder_dim = 10\n",
    "model_opt.decoder.rnn_opt.rnn_cell.cell_opt.num_units = 10\n",
    "model_opt.encoder.rnn_opt.rnn_cell.cell_opt.num_units = 10\n",
    "model_opt.decoder.share.encoder_rnn_params = True\n",
    "model_opt.decoder.share.encoder_embedding = True\n",
    "model_opt.decoder.share.logit_weight_tying = True\n",
    "model_fn = model.seq2seq_model.BasicSeq2SeqModel(model_opt)\n",
    "seq2seq_model = model_fn(is_training=True)\n",
    "optimizer = tf.train.AdamOptimizer()\n",
    "g_v_pairs =  optimizer.compute_gradients(seq2seq_model.training_loss, tf.trainable_variables())\n",
    "train_op = optimizer.apply_gradients(g_v_pairs)\n",
    "for v in tf.trainable_variables():\n",
    "    print(\"{}, {}\".format(v.name, v.get_shape()))"
   ]
  },
  {
   "cell_type": "code",
   "execution_count": 4,
   "metadata": {
    "collapsed": false
   },
   "outputs": [],
   "source": [
    "vocab = data.Vocabulary.from_vocab_file('../data/tiny_copy/vocab.txt')\n",
    "valid_iter = data.Seq2SeqIterator(vocab, vocab)\n",
    "valid_iter.initialize('../data/tiny_copy/valid.txt')\n",
    "valid_iter.init_batch(4)"
   ]
  },
  {
   "cell_type": "code",
   "execution_count": 5,
   "metadata": {
    "collapsed": false
   },
   "outputs": [],
   "source": [
    "sess_config = tf.ConfigProto(device_count={'GPU': 0})\n",
    "sess = tf.Session(config = sess_config)\n",
    "sess.run(tf.global_variables_initializer())\n",
    "batch = valid_iter.next_batch()\n",
    "state = None"
   ]
  },
  {
   "cell_type": "code",
   "execution_count": 6,
   "metadata": {
    "collapsed": false
   },
   "outputs": [],
   "source": [
    "prediction, state, info = seq2seq_model.predict(sess, batch.features)"
   ]
  },
  {
   "cell_type": "code",
   "execution_count": 7,
   "metadata": {
    "collapsed": false
   },
   "outputs": [],
   "source": [
    "eval_loss, state, info = seq2seq_model.evaluate(sess, batch)"
   ]
  },
  {
   "cell_type": "code",
   "execution_count": 8,
   "metadata": {
    "collapsed": false
   },
   "outputs": [],
   "source": [
    "eval_loss, train_loss, state, info = seq2seq_model.train(sess, batch, train_op)"
   ]
  },
  {
   "cell_type": "code",
   "execution_count": 9,
   "metadata": {
    "collapsed": false
   },
   "outputs": [
    {
     "data": {
      "text/plain": [
       "2.6866577"
      ]
     },
     "execution_count": 9,
     "metadata": {},
     "output_type": "execute_result"
    }
   ],
   "source": [
    "eval_loss"
   ]
  },
  {
   "cell_type": "code",
   "execution_count": 10,
   "metadata": {
    "collapsed": false
   },
   "outputs": [
    {
     "data": {
      "text/plain": [
       "80.599731"
      ]
     },
     "execution_count": 10,
     "metadata": {},
     "output_type": "execute_result"
    }
   ],
   "source": [
    "train_loss"
   ]
  },
  {
   "cell_type": "code",
   "execution_count": 70,
   "metadata": {
    "collapsed": false
   },
   "outputs": [],
   "source": [
    "tf.reset_default_graph()\n",
    "gx = tf.TensorArray(dtype=tf.int32, size=10)\n",
    "\n",
    "def cond(i, _):\n",
    "    return i < 10\n",
    "\n",
    "def body(i, gx_):\n",
    "    gx_ = gx_.write(i, i * 10)\n",
    "    return i + 1, gx_\n",
    "\n",
    "a, b = tf.while_loop(cond=cond, body=body,\n",
    "                     loop_vars=[tf.constant(0, tf.int32), gx])\n",
    "o = b.stack()"
   ]
  },
  {
   "cell_type": "code",
   "execution_count": 71,
   "metadata": {
    "collapsed": false
   },
   "outputs": [
    {
     "data": {
      "text/plain": [
       "array([ 0, 10, 20, 30, 40, 50, 60, 70, 80, 90], dtype=int32)"
      ]
     },
     "execution_count": 71,
     "metadata": {},
     "output_type": "execute_result"
    }
   ],
   "source": [
    "sess_config = tf.ConfigProto(device_count={'GPU': 0})\n",
    "sess = tf.Session(config=sess_config)\n",
    "sess.run(tf.global_variables_initializer())\n",
    "sess.run(o)"
   ]
  },
  {
   "cell_type": "code",
   "execution_count": null,
   "metadata": {
    "collapsed": true
   },
   "outputs": [],
   "source": []
  }
 ],
 "metadata": {
  "kernelspec": {
   "display_name": "Python 2",
   "language": "python",
   "name": "python2"
  },
  "language_info": {
   "codemirror_mode": {
    "name": "ipython",
    "version": 2
   },
   "file_extension": ".py",
   "mimetype": "text/x-python",
   "name": "python",
   "nbconvert_exporter": "python",
   "pygments_lexer": "ipython2",
   "version": "2.7.11"
  }
 },
 "nbformat": 4,
 "nbformat_minor": 0
}
