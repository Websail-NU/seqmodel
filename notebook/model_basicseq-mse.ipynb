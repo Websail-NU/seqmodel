{
 "cells": [
  {
   "cell_type": "code",
   "execution_count": 1,
   "metadata": {
    "collapsed": false
   },
   "outputs": [],
   "source": [
    "import sys\n",
    "import tensorflow as tf\n",
    "import numpy as np\n",
    "sys.path.insert(0, '../')\n",
    "%load_ext autoreload\n",
    "%autoreload 2"
   ]
  },
  {
   "cell_type": "code",
   "execution_count": 2,
   "metadata": {
    "collapsed": false
   },
   "outputs": [],
   "source": [
    "from seqmodel.bunch import Bunch\n",
    "from seqmodel import model\n",
    "from seqmodel import data"
   ]
  },
  {
   "cell_type": "code",
   "execution_count": 26,
   "metadata": {
    "collapsed": false
   },
   "outputs": [],
   "source": [
    "tf.reset_default_graph()\n",
    "model_opt = model.seq_model.BasicSeqModel.default_opt()\n",
    "model_opt.loss_type = 'mse'\n",
    "model_opt.output_mode = 'logit'\n",
    "model_opt.decoder.rnn_opt.logit.out_vocab_size = 1\n",
    "model_fn = model.seq_model.BasicSeqModel(model_opt)\n",
    "lm = model_fn(is_training=True)\n",
    "optimizer = tf.train.AdamOptimizer()\n",
    "g_v_pairs =  optimizer.compute_gradients(lm.training_loss, tf.trainable_variables())\n",
    "train_op = optimizer.apply_gradients(g_v_pairs)"
   ]
  },
  {
   "cell_type": "code",
   "execution_count": 27,
   "metadata": {
    "collapsed": false
   },
   "outputs": [],
   "source": [
    "vocab = data.Vocabulary.from_vocab_file('../data/tiny_single/vocab.txt')\n",
    "valid_iter = data.TokenIterator(vocab, vocab)\n",
    "valid_iter.initialize('../data/tiny_single/valid.txt')\n",
    "valid_iter.init_batch(4)"
   ]
  },
  {
   "cell_type": "code",
   "execution_count": 28,
   "metadata": {
    "collapsed": false
   },
   "outputs": [],
   "source": [
    "sess_config = tf.ConfigProto(device_count={'GPU': 0})\n",
    "sess = tf.Session(config = sess_config)\n",
    "sess.run(tf.global_variables_initializer())\n",
    "batch = valid_iter.next_batch()\n",
    "_l = batch.labels\n",
    "labels = _l._replace(label=_l.label.astype(np.float32))\n",
    "batch = batch._replace(labels=labels)\n",
    "state = None"
   ]
  },
  {
   "cell_type": "code",
   "execution_count": 48,
   "metadata": {
    "collapsed": false
   },
   "outputs": [],
   "source": [
    "prediction, state, info = lm.predict(sess, batch.features, state=state, new_seq=True)"
   ]
  },
  {
   "cell_type": "code",
   "execution_count": 30,
   "metadata": {
    "collapsed": false
   },
   "outputs": [],
   "source": [
    "eval_loss, state, info = lm.evaluate(sess, batch)"
   ]
  },
  {
   "cell_type": "code",
   "execution_count": 46,
   "metadata": {
    "collapsed": false
   },
   "outputs": [],
   "source": [
    "eval_loss, train_loss, state, info = lm.train(sess, batch, train_op)"
   ]
  },
  {
   "cell_type": "code",
   "execution_count": 47,
   "metadata": {
    "collapsed": false
   },
   "outputs": [
    {
     "data": {
      "text/plain": [
       "55.088478"
      ]
     },
     "execution_count": 47,
     "metadata": {},
     "output_type": "execute_result"
    }
   ],
   "source": [
    "eval_loss"
   ]
  },
  {
   "cell_type": "code",
   "execution_count": 51,
   "metadata": {
    "collapsed": false
   },
   "outputs": [
    {
     "data": {
      "text/plain": [
       "(10, 4, 1)"
      ]
     },
     "execution_count": 51,
     "metadata": {},
     "output_type": "execute_result"
    }
   ],
   "source": [
    "prediction.shape"
   ]
  },
  {
   "cell_type": "code",
   "execution_count": 50,
   "metadata": {
    "collapsed": false
   },
   "outputs": [
    {
     "data": {
      "text/plain": [
       "SeqTuple(features=SeqFeatureTuple(inputs=array([[ 0, 14,  0,  5],\n",
       "       [ 6, 12, 12,  6],\n",
       "       [ 7, 12, 11,  7],\n",
       "       [ 7,  0, 14,  9],\n",
       "       [12,  5, 11, 12],\n",
       "       [10,  8,  0,  0],\n",
       "       [14,  6,  6,  5],\n",
       "       [ 0, 12, 10,  5],\n",
       "       [ 5, 10, 11,  6],\n",
       "       [ 7, 12,  0,  9]], dtype=int32), input_seq_len=array([10, 10, 10, 10], dtype=int32)), labels=SeqLabelTuple(label=array([[  6.,  12.,  12.,   6.],\n",
       "       [  7.,  12.,  11.,   7.],\n",
       "       [  7.,   0.,  14.,   9.],\n",
       "       [ 12.,   5.,  11.,  12.],\n",
       "       [ 10.,   8.,   0.,   0.],\n",
       "       [ 14.,   6.,   6.,   5.],\n",
       "       [  0.,  12.,  10.,   5.],\n",
       "       [  5.,  10.,  11.,   6.],\n",
       "       [  7.,  12.,   0.,   9.],\n",
       "       [  7.,  14.,   5.,  12.]], dtype=float32), label_weight=array([[ 1.,  1.,  1.,  1.],\n",
       "       [ 1.,  1.,  1.,  1.],\n",
       "       [ 1.,  1.,  1.,  1.],\n",
       "       [ 1.,  1.,  1.,  1.],\n",
       "       [ 1.,  1.,  1.,  1.],\n",
       "       [ 1.,  1.,  1.,  1.],\n",
       "       [ 1.,  1.,  1.,  1.],\n",
       "       [ 1.,  1.,  1.,  1.],\n",
       "       [ 1.,  1.,  1.,  1.],\n",
       "       [ 1.,  1.,  1.,  1.]], dtype=float32)), new_seq=True, num_tokens=40.0)"
      ]
     },
     "execution_count": 50,
     "metadata": {},
     "output_type": "execute_result"
    }
   ],
   "source": [
    "batch"
   ]
  },
  {
   "cell_type": "code",
   "execution_count": null,
   "metadata": {
    "collapsed": true
   },
   "outputs": [],
   "source": []
  }
 ],
 "metadata": {
  "kernelspec": {
   "display_name": "Python 2",
   "language": "python",
   "name": "python2"
  },
  "language_info": {
   "codemirror_mode": {
    "name": "ipython",
    "version": 2
   },
   "file_extension": ".py",
   "mimetype": "text/x-python",
   "name": "python",
   "nbconvert_exporter": "python",
   "pygments_lexer": "ipython2",
   "version": "2.7.11"
  }
 },
 "nbformat": 4,
 "nbformat_minor": 0
}
