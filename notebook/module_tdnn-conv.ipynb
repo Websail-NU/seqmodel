{
 "cells": [
  {
   "cell_type": "code",
   "execution_count": 1,
   "metadata": {
    "collapsed": true
   },
   "outputs": [],
   "source": [
    "import time\n",
    "import numpy as np\n",
    "import tensorflow as tf"
   ]
  },
  {
   "cell_type": "code",
   "execution_count": 2,
   "metadata": {
    "collapsed": true
   },
   "outputs": [],
   "source": [
    "max_num_chars = 20\n",
    "embedding_dim = 32\n",
    "\n",
    "batch = 2\n",
    "height = 1\n",
    "width = max_num_chars\n",
    "channel = embedding_dim\n",
    "\n",
    "filter_height = 1\n",
    "filter_width = 4\n",
    "filter_channel = embedding_dim\n",
    "num_filters = 3"
   ]
  },
  {
   "cell_type": "code",
   "execution_count": 3,
   "metadata": {
    "collapsed": false
   },
   "outputs": [],
   "source": [
    "tf.reset_default_graph()\n",
    "data = tf.constant(np.random.rand(batch, max_num_chars, embedding_dim), dtype=tf.float32)\n",
    "inputs = tf.expand_dims(data, 1)\n",
    "filters = tf.constant(np.random.randn(filter_height, filter_width, filter_channel, num_filters), dtype=tf.float32)\n",
    "conv2d = tf.nn.conv2d(inputs, filters, [1, 1, 1, 1], 'SAME')\n",
    "filters1d = tf.constant(np.random.randn(filter_width, filter_channel, num_filters), dtype=tf.float32)\n",
    "conv1d = tf.nn.conv1d(data, filters1d, 1, 'SAME')\n",
    "# reduction_width = tf.shape(conv2d)[2]\n",
    "# max_pool = tf.nn.max_pool(conv2d, [1, 1, 4, 1], [1, 1, 1, 1], 'VALID')\n",
    "max_pool = tf.squeeze(tf.reduce_max(conv2d, 2), axis=1)"
   ]
  },
  {
   "cell_type": "code",
   "execution_count": 4,
   "metadata": {
    "collapsed": false
   },
   "outputs": [
    {
     "name": "stdout",
     "output_type": "stream",
     "text": [
      "0.00155401229858\n"
     ]
    }
   ],
   "source": [
    "sess_config = tf.ConfigProto(device_count={'GPU': 0})\n",
    "with tf.Session(config=sess_config) as sess:\n",
    "    sess.run(tf.global_variables_initializer())\n",
    "    start = time.time()\n",
    "    res = sess.run(max_pool)\n",
    "    print(time.time() - start)"
   ]
  },
  {
   "cell_type": "code",
   "execution_count": 5,
   "metadata": {
    "collapsed": false
   },
   "outputs": [
    {
     "data": {
      "text/plain": [
       "(2, 3)"
      ]
     },
     "execution_count": 5,
     "metadata": {},
     "output_type": "execute_result"
    }
   ],
   "source": [
    "res.shape"
   ]
  },
  {
   "cell_type": "code",
   "execution_count": 3,
   "metadata": {
    "collapsed": false
   },
   "outputs": [],
   "source": [
    "import sys\n",
    "sys.path.insert(0, '../')\n",
    "from seqmodel.bunch import Bunch\n",
    "from seqmodel.model.module.tdnn_module import TDNNModule"
   ]
  },
  {
   "cell_type": "code",
   "execution_count": 4,
   "metadata": {
    "collapsed": false
   },
   "outputs": [],
   "source": [
    "tf.reset_default_graph()\n",
    "inputs = tf.placeholder(name='inputs', shape=[None, None, embedding_dim], dtype=tf.float32)\n",
    "# data = tf.constant(np.random.rand(batch, max_num_chars, embedding_dim), dtype=tf.float32)\n",
    "seq_len = tf.placeholder(tf.int32, shape=[None], name='seq_len')\n",
    "tdnn = TDNNModule(TDNNModule.default_opt())(inputs, sequence_length=seq_len)"
   ]
  },
  {
   "cell_type": "code",
   "execution_count": 5,
   "metadata": {
    "collapsed": false
   },
   "outputs": [
    {
     "name": "stdout",
     "output_type": "stream",
     "text": [
      "0.00410509109497\n"
     ]
    }
   ],
   "source": [
    "sess_config = tf.ConfigProto(device_count={'GPU': 0})\n",
    "with tf.Session(config=sess_config) as sess:\n",
    "    sess.run(tf.global_variables_initializer())\n",
    "    start = time.time()\n",
    "    res = sess.run([tdnn], {inputs: np.random.rand(batch, 10, embedding_dim), seq_len: [4, 9]})\n",
    "    print(time.time() - start)"
   ]
  },
  {
   "cell_type": "code",
   "execution_count": 6,
   "metadata": {
    "collapsed": false
   },
   "outputs": [
    {
     "data": {
      "text/plain": [
       "(2, 160)"
      ]
     },
     "execution_count": 6,
     "metadata": {},
     "output_type": "execute_result"
    }
   ],
   "source": [
    "res[0].shape"
   ]
  },
  {
   "cell_type": "code",
   "execution_count": 7,
   "metadata": {
    "collapsed": false
   },
   "outputs": [
    {
     "data": {
      "text/plain": [
       "array([[  4.63632911e-01,   8.38226229e-02,   5.06573737e-01,\n",
       "          0.00000000e+00,   3.94592792e-01,   6.01036787e-01,\n",
       "          7.80129611e-01,   0.00000000e+00,   8.28691006e-01,\n",
       "          5.91183305e-01,   2.75117815e-01,   3.09899330e-01,\n",
       "          3.96263838e-01,   2.59097874e-01,   0.00000000e+00,\n",
       "          3.66990775e-01,   2.42797643e-01,   6.01166010e-01,\n",
       "          3.63440245e-01,   3.82780969e-01,   1.30070060e-01,\n",
       "          2.51824468e-01,   7.37564206e-01,   2.74531186e-01,\n",
       "          2.91312218e-01,   7.07658291e-01,   3.10833603e-01,\n",
       "          3.27958286e-01,   0.00000000e+00,   5.42482376e-01,\n",
       "          4.99295294e-01,   3.75172228e-01,   0.00000000e+00,\n",
       "          0.00000000e+00,   0.00000000e+00,   1.46411017e-01,\n",
       "          1.35047007e-02,   4.71376956e-01,   7.84711726e-03,\n",
       "          7.31201649e-01,   7.69738019e-01,   0.00000000e+00,\n",
       "          6.42382085e-01,   5.93695760e-01,   0.00000000e+00,\n",
       "          3.81327569e-01,   0.00000000e+00,   3.78242582e-01,\n",
       "          0.00000000e+00,   4.73240405e-01,   5.55852711e-01,\n",
       "          7.26269424e-01,   4.62378681e-01,   5.47821522e-02,\n",
       "          2.00801432e-01,   5.93167484e-01,   1.93537280e-01,\n",
       "          5.68758845e-01,   3.48718762e-01,   3.77846748e-01,\n",
       "          8.27093899e-01,   6.35684490e-01,   5.77346921e-01,\n",
       "          4.39904004e-01,   5.91945767e-01,   8.59958589e-01,\n",
       "          4.14235175e-01,   2.26211458e-01,   6.76448762e-01,\n",
       "          3.21015745e-01,   2.17122927e-01,   5.28248072e-01,\n",
       "          3.46229374e-01,   2.41053812e-02,   6.75265133e-01,\n",
       "          1.63101345e-01,   6.94249630e-01,   1.61651447e-01,\n",
       "          1.50490716e-01,   3.62846792e-01,   6.27749324e-01,\n",
       "          4.54394102e-01,   3.57506990e-01,   3.49069178e-01,\n",
       "          5.22065341e-01,   8.15229952e-01,   3.12267423e-01,\n",
       "          7.68161714e-02,   6.22848690e-01,   0.00000000e+00,\n",
       "          4.19073850e-01,   0.00000000e+00,   5.91695547e-01,\n",
       "          0.00000000e+00,   2.58409232e-01,   0.00000000e+00,\n",
       "          1.94763839e-01,   3.77468020e-01,   2.87776411e-01,\n",
       "          4.48126584e-01,   4.97736156e-01,   3.32307160e-01,\n",
       "          7.06020370e-02,   3.98255140e-01,   5.20813204e-02,\n",
       "          3.65514487e-01,   0.00000000e+00,   9.79969129e-02,\n",
       "          0.00000000e+00,   4.09206182e-01,   1.76567093e-01,\n",
       "          2.48091653e-01,   4.16124582e-01,   7.82209575e-01,\n",
       "          6.56353056e-01,   8.47544551e-01,   6.80535436e-01,\n",
       "          6.82170928e-01,   3.50288987e-01,   4.60561186e-01,\n",
       "          4.81739610e-01,   5.97784519e-01,   5.77017218e-02,\n",
       "          5.11705875e-01,   4.91656393e-01,   5.05273491e-02,\n",
       "          0.00000000e+00,   3.18575680e-01,   5.54188430e-01,\n",
       "          4.03364539e-01,   0.00000000e+00,   4.64183241e-01,\n",
       "          5.71367860e-01,   5.60558498e-01,   0.00000000e+00,\n",
       "          1.90986916e-01,   9.60398540e-02,   7.25397110e-01,\n",
       "          0.00000000e+00,   4.06548262e-01,   3.15025181e-01,\n",
       "          0.00000000e+00,   5.93904793e-01,   3.00923049e-01,\n",
       "          7.47669280e-01,   1.74645796e-01,   5.56764781e-01,\n",
       "          3.12658161e-01,   4.03392315e-01,   0.00000000e+00,\n",
       "          1.11575849e-01,   5.42285383e-01,   7.38168880e-02,\n",
       "          3.90663058e-01,   1.06167167e-01,   1.41303297e-02,\n",
       "          3.37721139e-01,   6.71233058e-01,   4.67619807e-01,\n",
       "          4.27092165e-01],\n",
       "       [  8.22997689e-01,   2.21030965e-01,   7.07422137e-01,\n",
       "          0.00000000e+00,   7.27659762e-01,   7.55320311e-01,\n",
       "          9.10336435e-01,   0.00000000e+00,   7.75538564e-01,\n",
       "          6.32780313e-01,  -1.82046697e-01,   2.57003814e-01,\n",
       "          4.47108924e-01,   9.98187885e-02,   4.44940589e-02,\n",
       "          4.91138399e-01,   3.08931082e-01,   8.37033689e-01,\n",
       "          4.57264125e-01,   3.11689794e-01,   3.16506535e-01,\n",
       "          7.63121367e-01,   6.29920781e-01,   4.48461771e-01,\n",
       "          4.98029888e-01,   9.19224620e-01,   2.62921840e-01,\n",
       "          6.49645448e-01,   7.43057430e-02,   7.18344748e-01,\n",
       "          5.41851401e-01,   2.85658002e-01,   1.57195508e-01,\n",
       "         -2.58123845e-01,   1.37019232e-01,   1.48497730e-01,\n",
       "         -4.16641757e-02,   5.87413907e-01,   2.72799551e-01,\n",
       "          7.64555633e-01,   5.04895985e-01,   4.10228550e-01,\n",
       "          7.11362600e-01,   7.96389997e-01,  -1.68057472e-01,\n",
       "          3.47790033e-01,  -7.83900097e-02,   5.28855264e-01,\n",
       "         -3.54082316e-01,   8.31211209e-01,   6.72845125e-01,\n",
       "          5.66952050e-01,   5.64866900e-01,   3.41695510e-02,\n",
       "          4.11626130e-01,   6.80115759e-01,   1.85912296e-01,\n",
       "          4.31878954e-01,   1.89747602e-01,   3.16941142e-01,\n",
       "          8.33867431e-01,   7.73661017e-01,   4.63730842e-01,\n",
       "          2.89492071e-01,   7.87769377e-01,   8.81386280e-01,\n",
       "          2.38219678e-01,   2.02523358e-02,   7.09853113e-01,\n",
       "          3.39393914e-01,   3.33142102e-01,   5.69785953e-01,\n",
       "          9.81839001e-02,   1.65667310e-01,   7.50343740e-01,\n",
       "          5.46582580e-01,   7.74308443e-01,   1.15316752e-02,\n",
       "          2.31581151e-01,   2.73782641e-01,   6.28195763e-01,\n",
       "          5.30375779e-01,   4.07942057e-01,   5.86280107e-01,\n",
       "          6.06133461e-01,   7.64919162e-01,   2.80575007e-01,\n",
       "          1.58236623e-01,   4.57695603e-01,  -4.34466153e-02,\n",
       "          5.94134390e-01,   8.08378495e-03,   8.11235309e-01,\n",
       "          4.08622861e-01,   3.65056843e-01,   3.23334290e-03,\n",
       "          3.30985159e-01,  -6.09823912e-02,   4.93213418e-04,\n",
       "          6.53070450e-01,   4.32624966e-01,   2.63009846e-01,\n",
       "          2.01096743e-01,   2.56653488e-01,   4.43183541e-01,\n",
       "          6.56922698e-01,  -3.26132728e-03,  -1.36644930e-01,\n",
       "         -3.55256796e-01,   6.17057800e-01,   3.00430506e-01,\n",
       "          2.36053780e-01,   7.01256514e-01,   8.99133861e-01,\n",
       "          7.82394469e-01,   8.37028861e-01,   7.91425765e-01,\n",
       "          7.13405490e-01,   5.39573193e-01,   6.30505741e-01,\n",
       "          4.62183058e-01,   6.04759634e-01,   4.22145844e-01,\n",
       "          3.89027953e-01,   7.73992538e-01,   7.83224925e-02,\n",
       "          3.98127101e-02,   4.55332428e-01,   7.39404440e-01,\n",
       "          4.50220615e-01,   1.54268920e-01,   6.45439684e-01,\n",
       "          6.70843959e-01,   7.26765573e-01,  -4.15479124e-01,\n",
       "          3.88071835e-01,   1.31777808e-01,   7.02555478e-01,\n",
       "          2.91798823e-02,   3.87784690e-01,   7.18553007e-01,\n",
       "          2.10554544e-02,   6.46358252e-01,   2.13068336e-01,\n",
       "          4.75502610e-01,  -1.78930148e-01,   4.68040615e-01,\n",
       "          3.53546530e-01,   7.08527684e-01,  -9.05229747e-02,\n",
       "          2.59683698e-01,   4.01722610e-01,   1.06669046e-01,\n",
       "          4.08905923e-01,   1.41329437e-01,   9.10916775e-02,\n",
       "          6.07501805e-01,   7.26444066e-01,   4.24071223e-01,\n",
       "          6.51810825e-01]], dtype=float32)"
      ]
     },
     "execution_count": 7,
     "metadata": {},
     "output_type": "execute_result"
    }
   ],
   "source": [
    "res[0]"
   ]
  },
  {
   "cell_type": "code",
   "execution_count": 8,
   "metadata": {
    "collapsed": false
   },
   "outputs": [
    {
     "name": "stdout",
     "output_type": "stream",
     "text": [
      "inputs\n",
      "seq_len\n",
      "tdnn_1/Shape\n",
      "tdnn_1/strided_slice/stack\n",
      "tdnn_1/strided_slice/stack_1\n",
      "tdnn_1/strided_slice/stack_2\n",
      "tdnn_1/strided_slice\n",
      "tdnn_1/SequenceMask/Const\n",
      "tdnn_1/SequenceMask/Const_1\n",
      "tdnn_1/SequenceMask/Range\n",
      "tdnn_1/SequenceMask/ExpandDims/dim\n",
      "tdnn_1/SequenceMask/ExpandDims\n",
      "tdnn_1/SequenceMask/Cast\n",
      "tdnn_1/SequenceMask/Less\n",
      "tdnn_1/SequenceMask/Cast_1\n",
      "tdnn_1/ExpandDims/dim\n",
      "tdnn_1/ExpandDims\n",
      "tdnn_1/Mul\n",
      "tdnn_1/ExpandDims_1/dim\n",
      "tdnn_1/ExpandDims_1\n",
      "tdnn/filter_2/Initializer/random_uniform/shape\n",
      "tdnn/filter_2/Initializer/random_uniform/min\n",
      "tdnn/filter_2/Initializer/random_uniform/max\n",
      "tdnn/filter_2/Initializer/random_uniform/RandomUniform\n",
      "tdnn/filter_2/Initializer/random_uniform/sub\n",
      "tdnn/filter_2/Initializer/random_uniform/mul\n",
      "tdnn/filter_2/Initializer/random_uniform\n",
      "tdnn/filter_2\n",
      "tdnn/filter_2/Assign\n",
      "tdnn/filter_2/read\n",
      "tdnn_1/Conv2D\n",
      "tdnn_1/Tanh\n",
      "tdnn_1/Max/reduction_indices\n",
      "tdnn_1/Max\n",
      "tdnn_1/Squeeze\n",
      "tdnn/filter_3/Initializer/random_uniform/shape\n",
      "tdnn/filter_3/Initializer/random_uniform/min\n",
      "tdnn/filter_3/Initializer/random_uniform/max\n",
      "tdnn/filter_3/Initializer/random_uniform/RandomUniform\n",
      "tdnn/filter_3/Initializer/random_uniform/sub\n",
      "tdnn/filter_3/Initializer/random_uniform/mul\n",
      "tdnn/filter_3/Initializer/random_uniform\n",
      "tdnn/filter_3\n",
      "tdnn/filter_3/Assign\n",
      "tdnn/filter_3/read\n",
      "tdnn_1/Conv2D_1\n",
      "tdnn_1/Tanh_1\n",
      "tdnn_1/Max_1/reduction_indices\n",
      "tdnn_1/Max_1\n",
      "tdnn_1/Squeeze_1\n",
      "tdnn/filter_4/Initializer/random_uniform/shape\n",
      "tdnn/filter_4/Initializer/random_uniform/min\n",
      "tdnn/filter_4/Initializer/random_uniform/max\n",
      "tdnn/filter_4/Initializer/random_uniform/RandomUniform\n",
      "tdnn/filter_4/Initializer/random_uniform/sub\n",
      "tdnn/filter_4/Initializer/random_uniform/mul\n",
      "tdnn/filter_4/Initializer/random_uniform\n",
      "tdnn/filter_4\n",
      "tdnn/filter_4/Assign\n",
      "tdnn/filter_4/read\n",
      "tdnn_1/Conv2D_2\n",
      "tdnn_1/Tanh_2\n",
      "tdnn_1/Max_2/reduction_indices\n",
      "tdnn_1/Max_2\n",
      "tdnn_1/Squeeze_2\n",
      "tdnn/filter_5/Initializer/random_uniform/shape\n",
      "tdnn/filter_5/Initializer/random_uniform/min\n",
      "tdnn/filter_5/Initializer/random_uniform/max\n",
      "tdnn/filter_5/Initializer/random_uniform/RandomUniform\n",
      "tdnn/filter_5/Initializer/random_uniform/sub\n",
      "tdnn/filter_5/Initializer/random_uniform/mul\n",
      "tdnn/filter_5/Initializer/random_uniform\n",
      "tdnn/filter_5\n",
      "tdnn/filter_5/Assign\n",
      "tdnn/filter_5/read\n",
      "tdnn_1/Conv2D_3\n",
      "tdnn_1/Tanh_3\n",
      "tdnn_1/Max_3/reduction_indices\n",
      "tdnn_1/Max_3\n",
      "tdnn_1/Squeeze_3\n",
      "tdnn/filter_6/Initializer/random_uniform/shape\n",
      "tdnn/filter_6/Initializer/random_uniform/min\n",
      "tdnn/filter_6/Initializer/random_uniform/max\n",
      "tdnn/filter_6/Initializer/random_uniform/RandomUniform\n",
      "tdnn/filter_6/Initializer/random_uniform/sub\n",
      "tdnn/filter_6/Initializer/random_uniform/mul\n",
      "tdnn/filter_6/Initializer/random_uniform\n",
      "tdnn/filter_6\n",
      "tdnn/filter_6/Assign\n",
      "tdnn/filter_6/read\n",
      "tdnn_1/Conv2D_4\n",
      "tdnn_1/Tanh_4\n",
      "tdnn_1/Max_4/reduction_indices\n",
      "tdnn_1/Max_4\n",
      "tdnn_1/Squeeze_4\n",
      "tdnn_1/concat/axis\n",
      "tdnn_1/concat\n",
      "init\n"
     ]
    }
   ],
   "source": [
    "for n in tf.get_default_graph().as_graph_def().node:\n",
    "    print(n.name)"
   ]
  },
  {
   "cell_type": "code",
   "execution_count": null,
   "metadata": {
    "collapsed": true
   },
   "outputs": [],
   "source": []
  }
 ],
 "metadata": {
  "kernelspec": {
   "display_name": "Python 2",
   "language": "python",
   "name": "python2"
  },
  "language_info": {
   "codemirror_mode": {
    "name": "ipython",
    "version": 2
   },
   "file_extension": ".py",
   "mimetype": "text/x-python",
   "name": "python",
   "nbconvert_exporter": "python",
   "pygments_lexer": "ipython2",
   "version": "2.7.11"
  }
 },
 "nbformat": 4,
 "nbformat_minor": 0
}
