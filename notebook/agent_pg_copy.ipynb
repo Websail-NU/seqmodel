{
 "cells": [
  {
   "cell_type": "code",
   "execution_count": 1,
   "metadata": {
    "collapsed": false
   },
   "outputs": [],
   "source": [
    "import sys\n",
    "import time\n",
    "import tensorflow as tf\n",
    "import numpy as np\n",
    "sys.path.insert(0, '../')\n",
    "%load_ext autoreload\n",
    "%autoreload 2"
   ]
  },
  {
   "cell_type": "code",
   "execution_count": 2,
   "metadata": {
    "collapsed": false
   },
   "outputs": [],
   "source": [
    "from seqmodel.bunch import Bunch\n",
    "from seqmodel.experiment.policy_agent import PolicyAgent\n",
    "from seqmodel import model\n",
    "from seqmodel import data"
   ]
  },
  {
   "cell_type": "code",
   "execution_count": 3,
   "metadata": {
    "collapsed": true
   },
   "outputs": [],
   "source": [
    "vocab = data.Vocabulary.from_vocab_file('../data/tiny_copy/vocab.txt')\n",
    "valid_iter = data.Seq2SeqIterator(vocab, vocab)\n",
    "valid_iter.initialize('../data/tiny_copy/valid.txt')\n",
    "train_iter = data.Seq2SeqIterator(vocab, vocab)\n",
    "train_iter.initialize('../data/tiny_copy/train.txt')"
   ]
  },
  {
   "cell_type": "code",
   "execution_count": 4,
   "metadata": {
    "collapsed": false
   },
   "outputs": [
    {
     "name": "stderr",
     "output_type": "stream",
     "text": [
      "\u001b[36m[INFO ]\u001b[0mep: 0, lr: 0.300000\n"
     ]
    },
    {
     "name": "stdout",
     "output_type": "stream",
     "text": [
      "policy_agent/policy/model/encoder_embedding:0, (15, 32)\n",
      "policy_agent/policy/model/decoder_embedding:0, (15, 32)\n",
      "policy_agent/policy/model/encoder_rnn/rnn/basic_lstm_cell/weights:0, (64, 128)\n",
      "policy_agent/policy/model/encoder_rnn/rnn/basic_lstm_cell/biases:0, (128,)\n",
      "policy_agent/policy/model/decoder_rnn/rnn/basic_lstm_cell/weights:0, (64, 128)\n",
      "policy_agent/policy/model/decoder_rnn/rnn/basic_lstm_cell/biases:0, (128,)\n",
      "policy_agent/policy/model/decoder_rnn/logit_w:0, (15, 32)\n",
      "policy_agent/policy/model/decoder_rnn/logit_b:0, (15,)\n"
     ]
    },
    {
     "name": "stderr",
     "output_type": "stream",
     "text": [
      "\u001b[36m[INFO ]\u001b[0mtrain: @499 tr_loss: 8.62677, eval_loss: 1.31262, wps: 15594.6\n",
      "\u001b[36m[INFO ]\u001b[0mvalid: @49 eval_loss: 0.46201, wps: 34065.7\n",
      "\u001b[36m[INFO ]\u001b[0mep: 1, lr: 0.300000\n",
      "\u001b[36m[INFO ]\u001b[0mtrain: @499 tr_loss: 2.04577, eval_loss: 0.30868, wps: 15741.2\n",
      "\u001b[36m[INFO ]\u001b[0mvalid: @49 eval_loss: 0.22965, wps: 38115.0\n",
      "\u001b[36m[INFO ]\u001b[0mep: 2, lr: 0.300000\n",
      "\u001b[36m[INFO ]\u001b[0mtrain: @499 tr_loss: 1.11693, eval_loss: 0.16864, wps: 15802.6\n",
      "\u001b[36m[INFO ]\u001b[0mvalid: @49 eval_loss: 0.12822, wps: 36624.0\n",
      "\u001b[36m[INFO ]\u001b[0mep: 3, lr: 0.300000\n",
      "\u001b[36m[INFO ]\u001b[0mtrain: @499 tr_loss: 0.73904, eval_loss: 0.11146, wps: 15517.7\n",
      "\u001b[36m[INFO ]\u001b[0mvalid: @49 eval_loss: 0.08695, wps: 37627.9\n",
      "\u001b[36m[INFO ]\u001b[0mep: 4, lr: 0.300000\n",
      "\u001b[36m[INFO ]\u001b[0mtrain: @499 tr_loss: 0.56944, eval_loss: 0.08575, wps: 15671.8\n",
      "\u001b[36m[INFO ]\u001b[0mvalid: @49 eval_loss: 0.07734, wps: 37723.6\n"
     ]
    },
    {
     "name": "stdout",
     "output_type": "stream",
     "text": [
      "PPL: 0.0773383819605, time: 0.175106048584\n"
     ]
    }
   ],
   "source": [
    "tf.reset_default_graph()\n",
    "agent_opt = PolicyAgent.default_opt()\n",
    "emb_opt = agent_opt.policy_model.model_opt.embedding\n",
    "dec_opt = agent_opt.policy_model.model_opt.decoder\n",
    "enc_opt = agent_opt.policy_model.model_opt.encoder\n",
    "optim_opt = agent_opt.optim\n",
    "\n",
    "emb_opt.decoder_dim = 32\n",
    "emb_opt.encoder_dim = 32\n",
    "\n",
    "dec_opt.rnn_opt.rnn_cell.cell_opt.num_units = 32\n",
    "enc_opt.rnn_opt.rnn_cell.cell_opt.num_units = 32\n",
    "\n",
    "optim_opt.learning_rate = 0.3\n",
    "optim_opt.name = 'GradientDescentOptimizer'\n",
    "optim_opt.max_epochs = 5\n",
    "\n",
    "sess_config = tf.ConfigProto(device_count={'GPU': 0})\n",
    "sess = tf.Session(config = sess_config)\n",
    "\n",
    "agent = PolicyAgent(agent_opt, sess)\n",
    "agent.initialize_model(with_training=True)\n",
    "agent.initialize_optim()\n",
    "for v in tf.trainable_variables():\n",
    "    print('{}, {}'.format(v.name, v.get_shape()))\n",
    "sess.run(tf.global_variables_initializer())\n",
    "agent.train(train_iter, 20, valid_iter, 20, verbose=True)\n",
    "info = agent.evaluate(valid_iter, 20)\n",
    "print(\"PPL: {}, time: {}\".format(\n",
    "    info.eval_cost/info.num_tokens, info.end_time - info.start_time))"
   ]
  },
  {
   "cell_type": "code",
   "execution_count": 5,
   "metadata": {
    "collapsed": false
   },
   "outputs": [
    {
     "name": "stdout",
     "output_type": "stream",
     "text": [
      "0.963726984127\n",
      "0.867\n"
     ]
    }
   ],
   "source": [
    "valid_env = data.env.CopyEnv(valid_iter, re_init=False, reward_mode=data.env.ToyRewardMode.EACH_MATCH)\n",
    "valid_env.restart(batch_size=20)\n",
    "info = agent.evaluate_policy(valid_env)\n",
    "print(info.eval_loss)\n",
    "\n",
    "valid_hard_env = data.env.CopyEnv(valid_iter, re_init=False, reward_mode=data.env.ToyRewardMode.ALL_MATCH)\n",
    "valid_hard_env.restart(batch_size=20)\n",
    "info = agent.evaluate_policy(valid_hard_env)\n",
    "print(info.eval_loss)"
   ]
  },
  {
   "cell_type": "code",
   "execution_count": 6,
   "metadata": {
    "collapsed": false
   },
   "outputs": [
    {
     "name": "stderr",
     "output_type": "stream",
     "text": [
      "\u001b[36m[INFO ]\u001b[0mep: 0, lr: 0.300000\n",
      "\u001b[36m[INFO ]\u001b[0mtrain: @500 tr_loss: 0.10987, base_loss: 0.00000, avg_return: 0.81570, wps: 895.5\n",
      "\u001b[36m[INFO ]\u001b[0mvalid: @50 avg_return: 0.87500, wps: 1340.7\n",
      "\u001b[36m[INFO ]\u001b[0mep: 1, lr: 0.300000\n",
      "\u001b[36m[INFO ]\u001b[0mtrain: @500 tr_loss: 0.09725, base_loss: 0.00000, avg_return: 0.82690, wps: 903.4\n",
      "\u001b[36m[INFO ]\u001b[0mvalid: @50 avg_return: 0.87200, wps: 1346.8\n",
      "\u001b[36m[INFO ]\u001b[0mep: 2, lr: 0.300000\n",
      "\u001b[36m[INFO ]\u001b[0mtrain: @500 tr_loss: 0.08960, base_loss: 0.00000, avg_return: 0.83360, wps: 893.8\n",
      "\u001b[36m[INFO ]\u001b[0mvalid: @50 avg_return: 0.86100, wps: 1398.6\n",
      "\u001b[36m[INFO ]\u001b[0mep: 3, lr: 0.300000\n",
      "\u001b[36m[INFO ]\u001b[0mtrain: @500 tr_loss: 0.08656, base_loss: 0.00000, avg_return: 0.83840, wps: 897.5\n",
      "\u001b[36m[INFO ]\u001b[0mvalid: @50 avg_return: 0.90600, wps: 1379.2\n",
      "\u001b[36m[INFO ]\u001b[0mep: 4, lr: 0.300000\n",
      "\u001b[36m[INFO ]\u001b[0mtrain: @500 tr_loss: 0.08011, base_loss: 0.00000, avg_return: 0.84730, wps: 896.9\n",
      "\u001b[36m[INFO ]\u001b[0mvalid: @50 avg_return: 0.90300, wps: 1425.8\n"
     ]
    }
   ],
   "source": [
    "agent.reset_training_state()\n",
    "train_env = data.env.CopyEnv(train_iter, re_init=False, reward_mode=data.env.ToyRewardMode.ALL_MATCH)\n",
    "info = agent.policy_gradient(train_env, 20, valid_hard_env, 20)"
   ]
  },
  {
   "cell_type": "code",
   "execution_count": 7,
   "metadata": {
    "collapsed": false
   },
   "outputs": [
    {
     "name": "stdout",
     "output_type": "stream",
     "text": [
      "0.9764\n",
      "0.903\n"
     ]
    }
   ],
   "source": [
    "valid_env = data.env.CopyEnv(valid_iter, re_init=False, reward_mode=data.env.ToyRewardMode.EACH_MATCH)\n",
    "valid_env.restart(batch_size=20)\n",
    "info = agent.evaluate_policy(valid_env)\n",
    "print(info.eval_loss)\n",
    "\n",
    "valid_hard_env = data.env.CopyEnv(valid_iter, re_init=False, reward_mode=data.env.ToyRewardMode.ALL_MATCH)\n",
    "valid_hard_env.restart(batch_size=20)\n",
    "info = agent.evaluate_policy(valid_hard_env)\n",
    "print(info.eval_loss)"
   ]
  }
 ],
 "metadata": {
  "kernelspec": {
   "display_name": "Python 2",
   "language": "python",
   "name": "python2"
  },
  "language_info": {
   "codemirror_mode": {
    "name": "ipython",
    "version": 2
   },
   "file_extension": ".py",
   "mimetype": "text/x-python",
   "name": "python",
   "nbconvert_exporter": "python",
   "pygments_lexer": "ipython2",
   "version": "2.7.11"
  }
 },
 "nbformat": 4,
 "nbformat_minor": 0
}
