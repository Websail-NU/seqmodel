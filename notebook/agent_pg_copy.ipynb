{
 "cells": [
  {
   "cell_type": "code",
   "execution_count": 1,
   "metadata": {
    "collapsed": false
   },
   "outputs": [],
   "source": [
    "import sys\n",
    "import time\n",
    "import tensorflow as tf\n",
    "import numpy as np\n",
    "sys.path.insert(0, '../')\n",
    "%load_ext autoreload\n",
    "%autoreload 2"
   ]
  },
  {
   "cell_type": "code",
   "execution_count": 2,
   "metadata": {
    "collapsed": false
   },
   "outputs": [],
   "source": [
    "from seqmodel.bunch import Bunch\n",
    "from seqmodel.experiment.policy_agent import PolicyAgent\n",
    "from seqmodel import model\n",
    "from seqmodel import data"
   ]
  },
  {
   "cell_type": "code",
   "execution_count": 3,
   "metadata": {
    "collapsed": true
   },
   "outputs": [],
   "source": [
    "vocab = data.Vocabulary.from_vocab_file('../data/tiny_copy/vocab.txt')\n",
    "valid_iter = data.Seq2SeqIterator(vocab, vocab)\n",
    "valid_iter.initialize('../data/tiny_copy/valid.txt')\n",
    "train_iter = data.Seq2SeqIterator(vocab, vocab)\n",
    "train_iter.initialize('../data/tiny_copy/train.txt')"
   ]
  },
  {
   "cell_type": "code",
   "execution_count": 4,
   "metadata": {
    "collapsed": false
   },
   "outputs": [
    {
     "name": "stderr",
     "output_type": "stream",
     "text": [
      "\u001b[36m[INFO ]\u001b[0mep: 0, lr: 0.300000\n"
     ]
    },
    {
     "name": "stdout",
     "output_type": "stream",
     "text": [
      "policy_agent/policy/model/encoder_embedding:0, (15, 32)\n",
      "policy_agent/policy/model/decoder_embedding:0, (15, 32)\n",
      "policy_agent/policy/model/encoder_rnn/rnn/basic_lstm_cell/weights:0, (64, 128)\n",
      "policy_agent/policy/model/encoder_rnn/rnn/basic_lstm_cell/biases:0, (128,)\n",
      "policy_agent/policy/model/decoder_rnn/rnn/basic_lstm_cell/weights:0, (64, 128)\n",
      "policy_agent/policy/model/decoder_rnn/rnn/basic_lstm_cell/biases:0, (128,)\n",
      "policy_agent/policy/model/decoder_rnn/logit_w:0, (15, 32)\n",
      "policy_agent/policy/model/decoder_rnn/logit_b:0, (15,)\n"
     ]
    },
    {
     "name": "stderr",
     "output_type": "stream",
     "text": [
      "\u001b[36m[INFO ]\u001b[0mtrain: @499 tr_loss: 8.50951, eval_loss: 1.29804, wps: 15466.5\n",
      "\u001b[36m[INFO ]\u001b[0mvalid: @49 tr_loss: 0.00000, eval_loss: 0.40551, wps: 33733.9\n",
      "\u001b[36m[INFO ]\u001b[0mep: 1, lr: 0.300000\n",
      "\u001b[36m[INFO ]\u001b[0mtrain: @499 tr_loss: 1.90082, eval_loss: 0.28631, wps: 15322.5\n",
      "\u001b[36m[INFO ]\u001b[0mvalid: @49 tr_loss: 0.00000, eval_loss: 0.19064, wps: 38384.1\n",
      "\u001b[36m[INFO ]\u001b[0mep: 2, lr: 0.300000\n",
      "\u001b[36m[INFO ]\u001b[0mtrain: @499 tr_loss: 1.07683, eval_loss: 0.16209, wps: 15187.0\n",
      "\u001b[36m[INFO ]\u001b[0mvalid: @49 tr_loss: 0.00000, eval_loss: 0.14583, wps: 37978.7\n",
      "\u001b[36m[INFO ]\u001b[0mep: 3, lr: 0.300000\n",
      "\u001b[36m[INFO ]\u001b[0mtrain: @499 tr_loss: 0.73735, eval_loss: 0.11099, wps: 15359.9\n",
      "\u001b[36m[INFO ]\u001b[0mvalid: @49 tr_loss: 0.00000, eval_loss: 0.10547, wps: 37980.8\n",
      "\u001b[36m[INFO ]\u001b[0mep: 4, lr: 0.300000\n",
      "\u001b[36m[INFO ]\u001b[0mtrain: @499 tr_loss: 0.59668, eval_loss: 0.08988, wps: 15544.2\n",
      "\u001b[36m[INFO ]\u001b[0mvalid: @49 tr_loss: 0.00000, eval_loss: 0.08302, wps: 38254.2\n"
     ]
    },
    {
     "name": "stdout",
     "output_type": "stream",
     "text": [
      "PPL: 0.0830161876572, time: 0.171453952789\n"
     ]
    }
   ],
   "source": [
    "tf.reset_default_graph()\n",
    "agent_opt = PolicyAgent.default_opt()\n",
    "emb_opt = agent_opt.policy_model.model_opt.embedding\n",
    "dec_opt = agent_opt.policy_model.model_opt.decoder\n",
    "enc_opt = agent_opt.policy_model.model_opt.encoder\n",
    "optim_opt = agent_opt.optim\n",
    "\n",
    "emb_opt.decoder_dim = 32\n",
    "emb_opt.encoder_dim = 32\n",
    "\n",
    "dec_opt.rnn_opt.rnn_cell.cell_opt.num_units = 32\n",
    "enc_opt.rnn_opt.rnn_cell.cell_opt.num_units = 32\n",
    "\n",
    "optim_opt.learning_rate = 0.3\n",
    "optim_opt.name = 'GradientDescentOptimizer'\n",
    "optim_opt.max_epochs = 5\n",
    "\n",
    "sess_config = tf.ConfigProto(device_count={'GPU': 0})\n",
    "sess = tf.Session(config = sess_config)\n",
    "\n",
    "agent = PolicyAgent(agent_opt, sess)\n",
    "agent.initialize_model(with_training=True)\n",
    "agent.initialize_optim()\n",
    "for v in tf.trainable_variables():\n",
    "    print('{}, {}'.format(v.name, v.get_shape()))\n",
    "sess.run(tf.global_variables_initializer())\n",
    "agent.train(train_iter, 20, valid_iter, 20, verbose=True)\n",
    "info = agent.evaluate(valid_iter, 20)\n",
    "print(\"PPL: {}, time: {}\".format(\n",
    "    info.eval_cost/info.num_tokens, info.end_time - info.start_time))"
   ]
  },
  {
   "cell_type": "code",
   "execution_count": 5,
   "metadata": {
    "collapsed": false
   },
   "outputs": [
    {
     "name": "stdout",
     "output_type": "stream",
     "text": [
      "0.957633730159\n",
      "0.853\n"
     ]
    }
   ],
   "source": [
    "valid_env = data.env.CopyEnv(valid_iter, re_init=False, reward_mode=data.env.ToyRewardMode.EACH_MATCH)\n",
    "valid_env.restart(batch_size=20)\n",
    "info = agent.evaluate_policy(valid_env)\n",
    "print(info.eval_loss)\n",
    "\n",
    "valid_hard_env = data.env.CopyEnv(valid_iter, re_init=False, reward_mode=data.env.ToyRewardMode.ALL_MATCH)\n",
    "valid_hard_env.restart(batch_size=20)\n",
    "info = agent.evaluate_policy(valid_hard_env)\n",
    "print(info.eval_loss)"
   ]
  },
  {
   "cell_type": "code",
   "execution_count": 6,
   "metadata": {
    "collapsed": false
   },
   "outputs": [
    {
     "name": "stderr",
     "output_type": "stream",
     "text": [
      "\u001b[36m[INFO ]\u001b[0mep: 0, lr: 0.300000\n",
      "\u001b[36m[INFO ]\u001b[0mtrain: @500 tr_loss: 0.10995, avg_return: 0.80790, wps: 899.2\n",
      "\u001b[36m[INFO ]\u001b[0mvalid: @50 tr_loss: 0.00000, avg_return: 0.88600, wps: 1416.0\n",
      "\u001b[36m[INFO ]\u001b[0mep: 1, lr: 0.300000\n",
      "\u001b[36m[INFO ]\u001b[0mtrain: @500 tr_loss: 0.09764, avg_return: 0.82930, wps: 891.9\n",
      "\u001b[36m[INFO ]\u001b[0mvalid: @50 tr_loss: 0.00000, avg_return: 0.86300, wps: 1433.0\n",
      "\u001b[36m[INFO ]\u001b[0mep: 2, lr: 0.300000\n",
      "\u001b[36m[INFO ]\u001b[0mtrain: @500 tr_loss: 0.09650, avg_return: 0.83450, wps: 882.0\n",
      "\u001b[36m[INFO ]\u001b[0mvalid: @50 tr_loss: 0.00000, avg_return: 0.86200, wps: 1403.6\n",
      "\u001b[36m[INFO ]\u001b[0mep: 3, lr: 0.300000\n",
      "\u001b[36m[INFO ]\u001b[0mtrain: @500 tr_loss: 0.08349, avg_return: 0.84340, wps: 903.1\n",
      "\u001b[36m[INFO ]\u001b[0mvalid: @50 tr_loss: 0.00000, avg_return: 0.89700, wps: 1414.7\n",
      "\u001b[36m[INFO ]\u001b[0mep: 4, lr: 0.300000\n",
      "\u001b[36m[INFO ]\u001b[0mtrain: @500 tr_loss: 0.08454, avg_return: 0.83790, wps: 902.8\n",
      "\u001b[36m[INFO ]\u001b[0mvalid: @50 tr_loss: 0.00000, avg_return: 0.87700, wps: 1336.9\n"
     ]
    }
   ],
   "source": [
    "agent.reset_training_state()\n",
    "train_env = data.env.CopyEnv(train_iter, re_init=False, reward_mode=data.env.ToyRewardMode.ALL_MATCH)\n",
    "info = agent.policy_gradient(train_env, 20, valid_hard_env, 20)"
   ]
  },
  {
   "cell_type": "code",
   "execution_count": 7,
   "metadata": {
    "collapsed": false
   },
   "outputs": [
    {
     "name": "stdout",
     "output_type": "stream",
     "text": [
      "0.966419047619\n",
      "0.877\n"
     ]
    }
   ],
   "source": [
    "valid_env = data.env.CopyEnv(valid_iter, re_init=False, reward_mode=data.env.ToyRewardMode.EACH_MATCH)\n",
    "valid_env.restart(batch_size=20)\n",
    "info = agent.evaluate_policy(valid_env)\n",
    "print(info.eval_loss)\n",
    "\n",
    "valid_hard_env = data.env.CopyEnv(valid_iter, re_init=False, reward_mode=data.env.ToyRewardMode.ALL_MATCH)\n",
    "valid_hard_env.restart(batch_size=20)\n",
    "info = agent.evaluate_policy(valid_hard_env)\n",
    "print(info.eval_loss)"
   ]
  }
 ],
 "metadata": {
  "kernelspec": {
   "display_name": "Python 2",
   "language": "python",
   "name": "python2"
  },
  "language_info": {
   "codemirror_mode": {
    "name": "ipython",
    "version": 2
   },
   "file_extension": ".py",
   "mimetype": "text/x-python",
   "name": "python",
   "nbconvert_exporter": "python",
   "pygments_lexer": "ipython2",
   "version": "2.7.11"
  }
 },
 "nbformat": 4,
 "nbformat_minor": 0
}
