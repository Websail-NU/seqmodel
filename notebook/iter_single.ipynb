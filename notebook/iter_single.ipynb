{
 "cells": [
  {
   "cell_type": "code",
   "execution_count": 1,
   "metadata": {
    "collapsed": false
   },
   "outputs": [],
   "source": [
    "%load_ext autoreload\n",
    "%autoreload 2\n",
    "import sys\n",
    "sys.path.insert(0, '../')"
   ]
  },
  {
   "cell_type": "code",
   "execution_count": 2,
   "metadata": {
    "collapsed": false
   },
   "outputs": [],
   "source": [
    "import numpy as np\n",
    "from seqmodel.data.single_text_iterator import *"
   ]
  },
  {
   "cell_type": "code",
   "execution_count": 4,
   "metadata": {
    "collapsed": false
   },
   "outputs": [],
   "source": [
    "vocab = Vocabulary.from_vocab_file('../data/ptb/vocab.txt')\n",
    "opt = Bunch(TokenIterator.default_opt(), sequence_length=10)\n",
    "loader = TokenIterator(vocab, vocab, opt)\n",
    "loader.initialize('../data/ptb/valid.txt')\n",
    "loader.init_batch(5)"
   ]
  },
  {
   "cell_type": "code",
   "execution_count": 11,
   "metadata": {
    "collapsed": false
   },
   "outputs": [
    {
     "name": "stdout",
     "output_type": "stream",
     "text": [
      "SeqBatchTuple(features=SeqFeatureTuple(inputs=array([[   0, 3335,   11,  124, 1029],\n",
      "       [1076, 1714,  601, 2765,    0],\n",
      "       [  94,   44,   58,    0,  235],\n",
      "       [ 355,    0,  466,   28,   15],\n",
      "       [   5,  670, 2698,  575,  758],\n",
      "       [ 340,  715,    0,    3,  110],\n",
      "       [  50,  220,   67,  140, 1722],\n",
      "       [5965,    6,   41,    2,    5],\n",
      "       [   6,    3,    1,    8,   25],\n",
      "       [ 322,    3,  339,    3,    2]], dtype=int32), input_seq_len=array([10, 10, 10, 10, 10], dtype=int32)), labels=SeqLabelTuple(label=array([[1076, 1714,  601, 2765,    0],\n",
      "       [  94,   44,   58,    0,  235],\n",
      "       [ 355,    0,  466,   28,   15],\n",
      "       [   5,  670, 2698,  575,  758],\n",
      "       [ 340,  715,    0,    3,  110],\n",
      "       [  50,  220,   67,  140, 1722],\n",
      "       [5965,    6,   41,    2,    5],\n",
      "       [   6,    3,    1,    8,   25],\n",
      "       [ 322,    3,  339,    3,    2],\n",
      "       [2628,  239,    8, 1936,    1]], dtype=int32), label_weight=array([[ 1.,  1.,  1.,  1.,  1.],\n",
      "       [ 1.,  1.,  1.,  1.,  1.],\n",
      "       [ 1.,  1.,  1.,  1.,  1.],\n",
      "       [ 1.,  1.,  1.,  1.,  1.],\n",
      "       [ 1.,  1.,  1.,  1.,  1.],\n",
      "       [ 1.,  1.,  1.,  1.,  1.],\n",
      "       [ 1.,  1.,  1.,  1.,  1.],\n",
      "       [ 1.,  1.,  1.,  1.,  1.],\n",
      "       [ 1.,  1.,  1.,  1.,  1.],\n",
      "       [ 1.,  1.,  1.,  1.,  1.]], dtype=float32)), new_seq=True, num_tokens=50.0)\n"
     ]
    }
   ],
   "source": [
    "print(loader.next_batch())"
   ]
  },
  {
   "cell_type": "code",
   "execution_count": 13,
   "metadata": {
    "collapsed": false
   },
   "outputs": [
    {
     "name": "stdout",
     "output_type": "stream",
     "text": [
      "SeqBatchTuple(features=SeqFeatureTuple(inputs=array([[  0,   0],\n",
      "       [321,  56],\n",
      "       [295,   0]], dtype=int32), input_seq_len=array([3, 2], dtype=int32)), labels=SeqLabelTuple(label=array([[321,  56],\n",
      "       [295,   0],\n",
      "       [  0,   0]], dtype=int32), label_weight=array([[ 1.,  1.],\n",
      "       [ 1.,  1.],\n",
      "       [ 1.,  0.]], dtype=float32)), new_seq=True, num_tokens=5.0)\n"
     ]
    }
   ],
   "source": [
    "loader.initialize(['wall street', 'stock'])\n",
    "loader.init_batch(2)\n",
    "print(loader.next_batch())"
   ]
  },
  {
   "cell_type": "code",
   "execution_count": null,
   "metadata": {
    "collapsed": true
   },
   "outputs": [],
   "source": []
  },
  {
   "cell_type": "code",
   "execution_count": null,
   "metadata": {
    "collapsed": true
   },
   "outputs": [],
   "source": []
  },
  {
   "cell_type": "code",
   "execution_count": 7,
   "metadata": {
    "collapsed": true
   },
   "outputs": [],
   "source": [
    "vocab = Vocabulary.from_vocab_file('../data/ptb/vocab.txt')\n",
    "opt = Bunch(SentenceIterator.default_opt(), sequence_length=10)\n",
    "loader = SentenceIterator(opt, vocab, vocab)\n",
    "loader.initialize('../data/ptb/valid.txt')\n",
    "loader.init_batch(5)"
   ]
  },
  {
   "cell_type": "code",
   "execution_count": 9,
   "metadata": {
    "collapsed": false
   },
   "outputs": [
    {
     "name": "stdout",
     "output_type": "stream",
     "text": [
      "SeqBatchTuple(features=SeqFeatureTuple(inputs=array([[   2,    2,    2,    2,    2],\n",
      "       [   7,   54,  965,   14,   29],\n",
      "       [ 485, 1271,    3,   24,   11],\n",
      "       [ 665,    2,    3,    6, 3675],\n",
      "       [ 728,    2,    8, 1636,   24],\n",
      "       [  11,   45,    3, 2950,   31],\n",
      "       [   1,  168,  431,  250,    2],\n",
      "       [1770,    2,   20,    0,   28],\n",
      "       [ 327,    6,    1,    0, 3336],\n",
      "       [  30, 2138,    2,    0,    1]], dtype=int32), input_seq_len=array([10, 10, 10,  7, 10], dtype=int32)), labels=SeqLabelTuple(label=array([[   7,   54,  965,   14,   29],\n",
      "       [ 485, 1271,    3,   24,   11],\n",
      "       [ 665,    2,    3,    6, 3675],\n",
      "       [ 728,    2,    8, 1636,   24],\n",
      "       [  11,   45,    3, 2950,   31],\n",
      "       [   1,  168,  431,  250,    2],\n",
      "       [1770,    2,   20,    0,   28],\n",
      "       [ 327,    6,    1,    0, 3336],\n",
      "       [  30, 2138,    2,    0,    1],\n",
      "       [ 384, 7128,    4,    0,    2]], dtype=int32), label_weight=array([[ 1.,  1.,  1.,  1.,  1.],\n",
      "       [ 1.,  1.,  1.,  1.,  1.],\n",
      "       [ 1.,  1.,  1.,  1.,  1.],\n",
      "       [ 1.,  1.,  1.,  1.,  1.],\n",
      "       [ 1.,  1.,  1.,  1.,  1.],\n",
      "       [ 1.,  1.,  1.,  1.,  1.],\n",
      "       [ 1.,  1.,  1.,  1.,  1.],\n",
      "       [ 1.,  1.,  1.,  0.,  1.],\n",
      "       [ 1.,  1.,  1.,  0.,  1.],\n",
      "       [ 1.,  1.,  1.,  0.,  1.]], dtype=float32)), new_seq=True, num_tokens=47.0)\n"
     ]
    }
   ],
   "source": [
    "print(loader.next_batch())"
   ]
  },
  {
   "cell_type": "code",
   "execution_count": 14,
   "metadata": {
    "collapsed": false
   },
   "outputs": [],
   "source": [
    "ref, obs = loader.reset()"
   ]
  },
  {
   "cell_type": "code",
   "execution_count": 15,
   "metadata": {
    "collapsed": false
   },
   "outputs": [
    {
     "data": {
      "text/plain": [
       "SeqTuple(features=SeqFeatureTuple(inputs=array([[ 393,    9,    3,    4, 4743],\n",
       "       [   1,  369,   22,    1,    6],\n",
       "       [  44,  933,   20,   44,    2],\n",
       "       [   5, 2309,   12,    0,    5],\n",
       "       [ 412,   90,    3,   35,   26],\n",
       "       [  43,   99,   22, 1805,    2],\n",
       "       [   3,  874,    7, 9703, 5674],\n",
       "       [   3,  195,    1, 1165, 1171],\n",
       "       [   0,    2, 1548,    9,    0],\n",
       "       [  69,   10,  337,    3, 7437]], dtype=int32), input_seq_len=array([10, 10, 10, 10, 10], dtype=int32)), labels=SeqLabelTuple(label=array([[   1,  369,   22,    1,    6],\n",
       "       [  44,  933,   20,   44,    2],\n",
       "       [   5, 2309,   12,    0,    5],\n",
       "       [ 412,   90,    3,   35,   26],\n",
       "       [  43,   99,   22, 1805,    2],\n",
       "       [   3,  874,    7, 9703, 5674],\n",
       "       [   3,  195,    1, 1165, 1171],\n",
       "       [   0,    2, 1548,    9,    0],\n",
       "       [  69,   10,  337,    3, 7437],\n",
       "       [ 592,    1,    0,    3,    2]], dtype=int32), label_weight=array([[ 1.,  1.,  1.,  1.,  1.],\n",
       "       [ 1.,  1.,  1.,  1.,  1.],\n",
       "       [ 1.,  1.,  1.,  1.,  1.],\n",
       "       [ 1.,  1.,  1.,  1.,  1.],\n",
       "       [ 1.,  1.,  1.,  1.,  1.],\n",
       "       [ 1.,  1.,  1.,  1.,  1.],\n",
       "       [ 1.,  1.,  1.,  1.,  1.],\n",
       "       [ 1.,  1.,  1.,  1.,  1.],\n",
       "       [ 1.,  1.,  1.,  1.,  1.],\n",
       "       [ 1.,  1.,  1.,  1.,  1.]], dtype=float32)), new_seq=True, num_tokens=50.0)"
      ]
     },
     "execution_count": 15,
     "metadata": {},
     "output_type": "execute_result"
    }
   ],
   "source": [
    "ref"
   ]
  },
  {
   "cell_type": "code",
   "execution_count": 19,
   "metadata": {
    "collapsed": false
   },
   "outputs": [
    {
     "data": {
      "text/plain": [
       "(SeqTuple(features=SeqFeatureTuple(inputs=array([[0, 0, 0, 0, 0]], dtype=int32), input_seq_len=array([0, 0, 0, 0, 0], dtype=int32)), labels=SeqLabelTuple(label=array([[0, 0, 0, 0, 0]], dtype=int32), label_weight=array([[ 1.,  1.,  1.,  1.,  1.]], dtype=float32)), new_seq=False, num_tokens=0.0),\n",
       " array([ True,  True,  True,  True,  True], dtype=bool),\n",
       " None)"
      ]
     },
     "execution_count": 19,
     "metadata": {},
     "output_type": "execute_result"
    }
   ],
   "source": [
    "loader.step(obs, np.zeros((5, ), dtype=np.int32))"
   ]
  },
  {
   "cell_type": "code",
   "execution_count": null,
   "metadata": {
    "collapsed": true
   },
   "outputs": [],
   "source": []
  }
 ],
 "metadata": {
  "kernelspec": {
   "display_name": "Python 2",
   "language": "python",
   "name": "python2"
  },
  "language_info": {
   "codemirror_mode": {
    "name": "ipython",
    "version": 2
   },
   "file_extension": ".py",
   "mimetype": "text/x-python",
   "name": "python",
   "nbconvert_exporter": "python",
   "pygments_lexer": "ipython2",
   "version": "2.7.11"
  }
 },
 "nbformat": 4,
 "nbformat_minor": 0
}
