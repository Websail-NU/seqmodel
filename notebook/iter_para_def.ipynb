{
 "cells": [
  {
   "cell_type": "code",
   "execution_count": 1,
   "metadata": {
    "collapsed": false
   },
   "outputs": [],
   "source": [
    "%load_ext autoreload\n",
    "%autoreload 2\n",
    "import sys\n",
    "import numpy as np\n",
    "sys.path.insert(0, '../')"
   ]
  },
  {
   "cell_type": "code",
   "execution_count": 2,
   "metadata": {
    "collapsed": false
   },
   "outputs": [],
   "source": [
    "from seqmodel.bunch import Bunch\n",
    "from seqmodel.data import Vocabulary\n",
    "from seqmodel.data.definition_iterator import *"
   ]
  },
  {
   "cell_type": "code",
   "execution_count": 3,
   "metadata": {
    "collapsed": false
   },
   "outputs": [
    {
     "name": "stdout",
     "output_type": "stream",
     "text": [
      "45158\n",
      "27792\n",
      "28\n"
     ]
    }
   ],
   "source": [
    "enc_vocab = Vocabulary.from_vocab_file('../data/common_wordnet_defs/all_senses/enc_vocab.txt')\n",
    "dec_vocab = Vocabulary.from_vocab_file('../data/common_wordnet_defs/all_senses/dec_vocab.txt')\n",
    "char_vocab = Vocabulary.from_vocab_file('../data/common_wordnet_defs/all_senses/char_vocab.txt')\n",
    "print(enc_vocab.vocab_size)\n",
    "print(dec_vocab.vocab_size)\n",
    "print(char_vocab.vocab_size)"
   ]
  },
  {
   "cell_type": "code",
   "execution_count": 4,
   "metadata": {
    "collapsed": false
   },
   "outputs": [],
   "source": [
    "loader = Word2DefIterator(enc_vocab, dec_vocab, char_vocab)\n",
    "loader.initialize(data_source='../data/common_wordnet_defs/all_senses/valid.txt',\n",
    "                 feature_source='../data/common_wordnet_defs/all_senses/valid_features.txt')"
   ]
  },
  {
   "cell_type": "code",
   "execution_count": 5,
   "metadata": {
    "collapsed": false
   },
   "outputs": [
    {
     "name": "stdout",
     "output_type": "stream",
     "text": [
      "3\n",
      "44\n",
      "44\n",
      "20\n"
     ]
    }
   ],
   "source": [
    "print(loader.max_enc_len)\n",
    "print(loader.max_in_dec_len)\n",
    "print(loader.max_out_dec_len)\n",
    "print(loader.max_enc_char_len)"
   ]
  },
  {
   "cell_type": "code",
   "execution_count": 6,
   "metadata": {
    "collapsed": false
   },
   "outputs": [
    {
     "name": "stdout",
     "output_type": "stream",
     "text": [
      "11456\n",
      "11456\n",
      "[u'skyscrapers']\n",
      "[u'a', u'very', u'tall', u'building', u'with', u'many', u'stories']\n",
      "[u'<', u's', u'k', u'y', u's', u'c', u'r', u'a', u'p', u'e', u'r', u's', u'>']\n",
      "tall\n"
     ]
    }
   ],
   "source": [
    "print(len(loader.data))\n",
    "print(len(loader.extra_data))\n",
    "print(enc_vocab.i2w(loader.data[0][0]))\n",
    "print(dec_vocab.i2w(loader.data[0][1]))\n",
    "print(char_vocab.i2w(loader.extra_data[0][0]))\n",
    "print(dec_vocab.i2w(loader.extra_data[0][1]))"
   ]
  },
  {
   "cell_type": "code",
   "execution_count": 7,
   "metadata": {
    "collapsed": false
   },
   "outputs": [],
   "source": [
    "loader.init_batch(1)\n",
    "b = loader.next_batch()"
   ]
  },
  {
   "cell_type": "code",
   "execution_count": 8,
   "metadata": {
    "collapsed": false
   },
   "outputs": [
    {
     "name": "stdout",
     "output_type": "stream",
     "text": [
      "[u'english']\n",
      "[u'relating']\n",
      "[[u'<', u'e', u'n', u'g', u'l', u'i', u's', u'h', u'>']]\n",
      "[9]\n"
     ]
    }
   ],
   "source": [
    "print(enc_vocab.i2w(b.features.encoder_word))\n",
    "print(dec_vocab.i2w(b.features.encoder_feature))\n",
    "print(char_vocab.i2w(b.features.encoder_char))\n",
    "print(b.features.encoder_char_len)"
   ]
  },
  {
   "cell_type": "code",
   "execution_count": 9,
   "metadata": {
    "collapsed": false
   },
   "outputs": [
    {
     "name": "stdout",
     "output_type": "stream",
     "text": [
      "11456\n"
     ]
    }
   ],
   "source": [
    "nb = 0\n",
    "for b in loader.iterate_epoch(1):\n",
    "    nb += 1\n",
    "print(nb)"
   ]
  },
  {
   "cell_type": "code",
   "execution_count": 10,
   "metadata": {
    "collapsed": false
   },
   "outputs": [
    {
     "data": {
      "text/plain": [
       "array([8], dtype=int32)"
      ]
     },
     "execution_count": 10,
     "metadata": {},
     "output_type": "execute_result"
    }
   ],
   "source": [
    "b.features.encoder_char_len"
   ]
  },
  {
   "cell_type": "code",
   "execution_count": 11,
   "metadata": {
    "collapsed": false
   },
   "outputs": [
    {
     "data": {
      "text/plain": [
       "Seq2SeqBatchTuple(features=Word2SeqFeatureTuple(encoder_input=array([[   1],\n",
       "       [1388],\n",
       "       [   3]], dtype=int32), encoder_seq_len=array([3], dtype=int32), decoder_input=array([[   2],\n",
       "       [ 475],\n",
       "       [  53],\n",
       "       [2775],\n",
       "       [   5],\n",
       "       [9406]], dtype=int32), decoder_seq_len=array([6], dtype=int32), encoder_word=array([1388], dtype=int32), encoder_feature=array([475], dtype=int32), encoder_char=array([[ 0,  4, 14, 10,  5,  4, 17,  1]], dtype=int32), encoder_char_len=array([8], dtype=int32)), labels=Seq2SeqLabelTuple(decoder_label=array([[ 475],\n",
       "       [  53],\n",
       "       [2775],\n",
       "       [   5],\n",
       "       [9406],\n",
       "       [   0]], dtype=int32), decoder_label_weight=array([[ 1.],\n",
       "       [ 1.],\n",
       "       [ 1.],\n",
       "       [ 1.],\n",
       "       [ 1.],\n",
       "       [ 1.]], dtype=float32), decoder_seq_weight=array([ 1.], dtype=float32)), num_tokens=6.0)"
      ]
     },
     "execution_count": 11,
     "metadata": {},
     "output_type": "execute_result"
    }
   ],
   "source": [
    "b"
   ]
  },
  {
   "cell_type": "code",
   "execution_count": 21,
   "metadata": {
    "collapsed": false
   },
   "outputs": [],
   "source": [
    "x = b.features.decoder_input[:1,:].copy()"
   ]
  },
  {
   "cell_type": "code",
   "execution_count": 26,
   "metadata": {
    "collapsed": false
   },
   "outputs": [
    {
     "data": {
      "text/plain": [
       "array([[11]], dtype=int32)"
      ]
     },
     "execution_count": 26,
     "metadata": {},
     "output_type": "execute_result"
    }
   ],
   "source": [
    "x"
   ]
  },
  {
   "cell_type": "code",
   "execution_count": 24,
   "metadata": {
    "collapsed": true
   },
   "outputs": [],
   "source": [
    "x[0,0] = 11"
   ]
  },
  {
   "cell_type": "code",
   "execution_count": 25,
   "metadata": {
    "collapsed": false
   },
   "outputs": [
    {
     "data": {
      "text/plain": [
       "array([[  10],\n",
       "       [ 475],\n",
       "       [  53],\n",
       "       [2775],\n",
       "       [   5],\n",
       "       [9406]], dtype=int32)"
      ]
     },
     "execution_count": 25,
     "metadata": {},
     "output_type": "execute_result"
    }
   ],
   "source": [
    "b.features.decoder_input"
   ]
  },
  {
   "cell_type": "code",
   "execution_count": null,
   "metadata": {
    "collapsed": true
   },
   "outputs": [],
   "source": []
  }
 ],
 "metadata": {
  "kernelspec": {
   "display_name": "Python 2",
   "language": "python",
   "name": "python2"
  },
  "language_info": {
   "codemirror_mode": {
    "name": "ipython",
    "version": 2
   },
   "file_extension": ".py",
   "mimetype": "text/x-python",
   "name": "python",
   "nbconvert_exporter": "python",
   "pygments_lexer": "ipython2",
   "version": "2.7.11"
  }
 },
 "nbformat": 4,
 "nbformat_minor": 0
}
