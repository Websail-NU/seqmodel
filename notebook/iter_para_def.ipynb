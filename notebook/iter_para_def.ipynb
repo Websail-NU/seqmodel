{
 "cells": [
  {
   "cell_type": "code",
   "execution_count": 1,
   "metadata": {
    "collapsed": false
   },
   "outputs": [],
   "source": [
    "%load_ext autoreload\n",
    "%autoreload 2\n",
    "import sys\n",
    "import numpy as np\n",
    "sys.path.insert(0, '../')"
   ]
  },
  {
   "cell_type": "code",
   "execution_count": 2,
   "metadata": {
    "collapsed": false
   },
   "outputs": [],
   "source": [
    "from seqmodel.bunch import Bunch\n",
    "from seqmodel.data import Vocabulary\n",
    "from seqmodel.data.definition_iterator import *"
   ]
  },
  {
   "cell_type": "code",
   "execution_count": 3,
   "metadata": {
    "collapsed": false
   },
   "outputs": [
    {
     "name": "stdout",
     "output_type": "stream",
     "text": [
      "45158\n",
      "27792\n",
      "28\n"
     ]
    }
   ],
   "source": [
    "enc_vocab = Vocabulary.from_vocab_file('../data/common_wordnet_defs/all_senses/enc_vocab.txt')\n",
    "dec_vocab = Vocabulary.from_vocab_file('../data/common_wordnet_defs/all_senses/dec_vocab.txt')\n",
    "char_vocab = Vocabulary.from_vocab_file('../data/common_wordnet_defs/all_senses/char_vocab.txt')\n",
    "print(enc_vocab.vocab_size)\n",
    "print(dec_vocab.vocab_size)\n",
    "print(char_vocab.vocab_size)"
   ]
  },
  {
   "cell_type": "code",
   "execution_count": 4,
   "metadata": {
    "collapsed": false
   },
   "outputs": [],
   "source": [
    "loader = Word2DefIterator(enc_vocab, dec_vocab, char_vocab)\n",
    "loader.initialize(data_source='../data/common_wordnet_defs/all_senses/valid.txt',\n",
    "                 feature_source='../data/common_wordnet_defs/all_senses/valid_features.txt')"
   ]
  },
  {
   "cell_type": "code",
   "execution_count": 5,
   "metadata": {
    "collapsed": false
   },
   "outputs": [
    {
     "name": "stdout",
     "output_type": "stream",
     "text": [
      "3\n",
      "44\n",
      "44\n",
      "20\n"
     ]
    }
   ],
   "source": [
    "print(loader.max_enc_len)\n",
    "print(loader.max_in_dec_len)\n",
    "print(loader.max_out_dec_len)\n",
    "print(loader.max_enc_char_len)"
   ]
  },
  {
   "cell_type": "code",
   "execution_count": 6,
   "metadata": {
    "collapsed": false
   },
   "outputs": [
    {
     "name": "stdout",
     "output_type": "stream",
     "text": [
      "11456\n",
      "11456\n",
      "[u'skyscrapers']\n",
      "[u'a', u'very', u'tall', u'building', u'with', u'many', u'stories']\n",
      "[u'<', u's', u'k', u'y', u's', u'c', u'r', u'a', u'p', u'e', u'r', u's', u'>']\n",
      "tall\n"
     ]
    }
   ],
   "source": [
    "print(len(loader.data))\n",
    "print(len(loader.extra_data))\n",
    "print(enc_vocab.i2w(loader.data[0][0]))\n",
    "print(dec_vocab.i2w(loader.data[0][1]))\n",
    "print(char_vocab.i2w(loader.extra_data[0][0]))\n",
    "print(dec_vocab.i2w(loader.extra_data[0][1]))"
   ]
  },
  {
   "cell_type": "code",
   "execution_count": 12,
   "metadata": {
    "collapsed": false
   },
   "outputs": [],
   "source": [
    "loader._remove_duplicate_words()\n",
    "loader.init_batch(1)\n",
    "b = loader.next_batch()"
   ]
  },
  {
   "cell_type": "code",
   "execution_count": 13,
   "metadata": {
    "collapsed": false
   },
   "outputs": [
    {
     "name": "stdout",
     "output_type": "stream",
     "text": [
      "[u'evaluate']\n",
      "[u'form']\n",
      "[[u'<', u'e', u'v', u'a', u'l', u'u', u'a', u't', u'e', u'>']]\n",
      "[10]\n"
     ]
    }
   ],
   "source": [
    "print(enc_vocab.i2w(b.features.encoder_word))\n",
    "print(dec_vocab.i2w(b.features.encoder_feature))\n",
    "print(char_vocab.i2w(b.features.encoder_char))\n",
    "print(b.features.encoder_char_len)"
   ]
  },
  {
   "cell_type": "code",
   "execution_count": 14,
   "metadata": {
    "collapsed": false
   },
   "outputs": [
    {
     "name": "stdout",
     "output_type": "stream",
     "text": [
      "4479\n"
     ]
    }
   ],
   "source": [
    "nb = 0\n",
    "for b in loader.iterate_epoch(1):\n",
    "    nb += 1\n",
    "print(nb)"
   ]
  },
  {
   "cell_type": "code",
   "execution_count": 15,
   "metadata": {
    "collapsed": false
   },
   "outputs": [
    {
     "data": {
      "text/plain": [
       "array([10], dtype=int32)"
      ]
     },
     "execution_count": 15,
     "metadata": {},
     "output_type": "execute_result"
    }
   ],
   "source": [
    "b.features.encoder_char_len"
   ]
  },
  {
   "cell_type": "code",
   "execution_count": 16,
   "metadata": {
    "collapsed": false
   },
   "outputs": [
    {
     "data": {
      "text/plain": [
       "Seq2SeqBatchTuple(features=Word2SeqFeatureTuple(encoder_input=array([[    1],\n",
       "       [28750],\n",
       "       [    3]], dtype=int32), encoder_seq_len=array([3], dtype=int32), decoder_input=array([[    2],\n",
       "       [    7],\n",
       "       [  272],\n",
       "       [    6],\n",
       "       [ 9662],\n",
       "       [   12],\n",
       "       [ 2108],\n",
       "       [   14],\n",
       "       [12081],\n",
       "       [   10],\n",
       "       [ 8756]], dtype=int32), decoder_seq_len=array([11], dtype=int32), encoder_word=array([28750], dtype=int32), encoder_feature=array([272], dtype=int32), encoder_char=array([[ 0, 16,  6,  5, 15, 15,  5,  6,  4,  1]], dtype=int32), encoder_char_len=array([10], dtype=int32)), labels=Seq2SeqLabelTuple(decoder_label=array([[    7],\n",
       "       [  272],\n",
       "       [    6],\n",
       "       [ 9662],\n",
       "       [   12],\n",
       "       [ 2108],\n",
       "       [   14],\n",
       "       [12081],\n",
       "       [   10],\n",
       "       [ 8756],\n",
       "       [    0]], dtype=int32), decoder_label_weight=array([[ 1.],\n",
       "       [ 1.],\n",
       "       [ 1.],\n",
       "       [ 1.],\n",
       "       [ 1.],\n",
       "       [ 1.],\n",
       "       [ 1.],\n",
       "       [ 1.],\n",
       "       [ 1.],\n",
       "       [ 1.],\n",
       "       [ 1.]], dtype=float32), decoder_seq_weight=array([ 1.], dtype=float32)), num_tokens=11.0)"
      ]
     },
     "execution_count": 16,
     "metadata": {},
     "output_type": "execute_result"
    }
   ],
   "source": [
    "b"
   ]
  },
  {
   "cell_type": "code",
   "execution_count": 12,
   "metadata": {
    "collapsed": false
   },
   "outputs": [
    {
     "data": {
      "text/plain": [
       "u'sounded'"
      ]
     },
     "execution_count": 12,
     "metadata": {},
     "output_type": "execute_result"
    }
   ],
   "source": [
    "enc_vocab.i2w(20619)"
   ]
  },
  {
   "cell_type": "code",
   "execution_count": null,
   "metadata": {
    "collapsed": true
   },
   "outputs": [],
   "source": []
  }
 ],
 "metadata": {
  "kernelspec": {
   "display_name": "Python 2",
   "language": "python",
   "name": "python2"
  },
  "language_info": {
   "codemirror_mode": {
    "name": "ipython",
    "version": 2
   },
   "file_extension": ".py",
   "mimetype": "text/x-python",
   "name": "python",
   "nbconvert_exporter": "python",
   "pygments_lexer": "ipython2",
   "version": "2.7.11"
  }
 },
 "nbformat": 4,
 "nbformat_minor": 0
}
