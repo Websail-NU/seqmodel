{
 "cells": [
  {
   "cell_type": "code",
   "execution_count": 1,
   "metadata": {
    "collapsed": false
   },
   "outputs": [],
   "source": [
    "import sys\n",
    "import time\n",
    "import tensorflow as tf\n",
    "import numpy as np\n",
    "sys.path.insert(0, '../')\n",
    "%load_ext autoreload\n",
    "%autoreload 2"
   ]
  },
  {
   "cell_type": "code",
   "execution_count": 2,
   "metadata": {
    "collapsed": false
   },
   "outputs": [],
   "source": [
    "from seqmodel.bunch import Bunch\n",
    "from seqmodel.experiment.policy_agent import ActorCriticAgent\n",
    "from seqmodel import model\n",
    "from seqmodel import data"
   ]
  },
  {
   "cell_type": "code",
   "execution_count": 3,
   "metadata": {
    "collapsed": true
   },
   "outputs": [],
   "source": [
    "vocab = data.Vocabulary.from_vocab_file('../data/tiny_copy/vocab.txt')\n",
    "valid_iter = data.Seq2SeqIterator(vocab, vocab)\n",
    "valid_iter.initialize('../data/tiny_copy/valid.txt')\n",
    "train_iter = data.Seq2SeqIterator(vocab, vocab)\n",
    "train_iter.initialize('../data/tiny_copy/train.txt')"
   ]
  },
  {
   "cell_type": "code",
   "execution_count": 4,
   "metadata": {
    "collapsed": false
   },
   "outputs": [
    {
     "name": "stdout",
     "output_type": "stream",
     "text": [
      "policy_agent/policy/model/encoder_embedding:0, (15, 32)\n",
      "policy_agent/policy/model/decoder_embedding:0, (15, 32)\n",
      "policy_agent/policy/model/encoder_rnn/rnn/basic_lstm_cell/weights:0, (64, 128)\n",
      "policy_agent/policy/model/encoder_rnn/rnn/basic_lstm_cell/biases:0, (128,)\n",
      "policy_agent/policy/model/decoder_rnn/rnn/basic_lstm_cell/weights:0, (64, 128)\n",
      "policy_agent/policy/model/decoder_rnn/rnn/basic_lstm_cell/biases:0, (128,)\n",
      "policy_agent/policy/model/decoder_rnn/logit_w:0, (15, 32)\n",
      "policy_agent/policy/model/decoder_rnn/logit_b:0, (15,)\n",
      "policy_agent/value/model/encoder_embedding:0, (15, 32)\n",
      "policy_agent/value/model/decoder_embedding:0, (15, 32)\n",
      "policy_agent/value/model/encoder_rnn/rnn/basic_lstm_cell/weights:0, (64, 128)\n",
      "policy_agent/value/model/encoder_rnn/rnn/basic_lstm_cell/biases:0, (128,)\n",
      "policy_agent/value/model/decoder_rnn/rnn/basic_lstm_cell/weights:0, (64, 128)\n",
      "policy_agent/value/model/decoder_rnn/rnn/basic_lstm_cell/biases:0, (128,)\n",
      "policy_agent/value/model/decoder_rnn/regression_w:0, (1, 32)\n",
      "policy_agent/value/model/decoder_rnn/regression_b:0, (1,)\n"
     ]
    }
   ],
   "source": [
    "tf.reset_default_graph()\n",
    "agent_opt = ActorCriticAgent.default_opt()\n",
    "emb_opt = agent_opt.policy_model.model_opt.embedding\n",
    "dec_opt = agent_opt.policy_model.model_opt.decoder\n",
    "enc_opt = agent_opt.policy_model.model_opt.encoder\n",
    "optim_opt = agent_opt.optim\n",
    "\n",
    "agent_opt.discount_factor = 0.7\n",
    "\n",
    "emb_opt.decoder_dim = 32\n",
    "emb_opt.encoder_dim = 32\n",
    "\n",
    "dec_opt.rnn_opt.rnn_cell.cell_opt.num_units = 32\n",
    "enc_opt.rnn_opt.rnn_cell.cell_opt.num_units = 32\n",
    "\n",
    "optim_opt.learning_rate = 0.3\n",
    "optim_opt.name = 'GradientDescentOptimizer'\n",
    "optim_opt.max_epochs = 5\n",
    "\n",
    "emb_opt = agent_opt.value_model.model_opt.embedding\n",
    "dec_opt = agent_opt.value_model.model_opt.decoder\n",
    "enc_opt = agent_opt.value_model.model_opt.encoder\n",
    "\n",
    "emb_opt.decoder_dim = 32\n",
    "emb_opt.encoder_dim = 32\n",
    "\n",
    "dec_opt.rnn_opt.rnn_cell.cell_opt.num_units = 32\n",
    "enc_opt.rnn_opt.rnn_cell.cell_opt.num_units = 32\n",
    "\n",
    "sess_config = tf.ConfigProto(device_count={'GPU': 0})\n",
    "sess = tf.Session(config = sess_config)\n",
    "\n",
    "agent = ActorCriticAgent(agent_opt, sess)\n",
    "agent.initialize_model(with_training=True)\n",
    "agent.initialize_optim()\n",
    "for v in tf.trainable_variables():\n",
    "    print('{}, {}'.format(v.name, v.get_shape()))\n",
    "sess.run(tf.global_variables_initializer())"
   ]
  },
  {
   "cell_type": "code",
   "execution_count": 5,
   "metadata": {
    "collapsed": false
   },
   "outputs": [
    {
     "name": "stderr",
     "output_type": "stream",
     "text": [
      "\u001b[36m[INFO ]\u001b[0mep: 0, lr: 0.300000\n",
      "\u001b[36m[INFO ]\u001b[0mtrain: @499 tr_loss: 8.47738, eval_loss: 1.28891 (3.62883), wps: 15076.5\n",
      "\u001b[36m[INFO ]\u001b[0mvalid: @49 eval_loss: 0.51180 (1.66830), wps: 32778.7\n",
      "\u001b[36m[INFO ]\u001b[0mep: 1, lr: 0.300000\n",
      "\u001b[36m[INFO ]\u001b[0mtrain: @499 tr_loss: 1.98665, eval_loss: 0.29930 (1.34891), wps: 15189.4\n",
      "\u001b[36m[INFO ]\u001b[0mvalid: @49 eval_loss: 0.17578 (1.19218), wps: 37301.0\n",
      "\u001b[36m[INFO ]\u001b[0mep: 2, lr: 0.300000\n",
      "\u001b[36m[INFO ]\u001b[0mtrain: @499 tr_loss: 0.99541, eval_loss: 0.15021 (1.16208), wps: 15362.9\n",
      "\u001b[36m[INFO ]\u001b[0mvalid: @49 eval_loss: 0.13434 (1.14378), wps: 37125.1\n",
      "\u001b[36m[INFO ]\u001b[0mep: 3, lr: 0.300000\n",
      "\u001b[36m[INFO ]\u001b[0mtrain: @499 tr_loss: 0.68252, eval_loss: 0.10282 (1.10830), wps: 15279.1\n",
      "\u001b[36m[INFO ]\u001b[0mvalid: @49 eval_loss: 0.08431 (1.08796), wps: 29797.8\n",
      "\u001b[36m[INFO ]\u001b[0mep: 4, lr: 0.300000\n",
      "\u001b[36m[INFO ]\u001b[0mtrain: @499 tr_loss: 0.51694, eval_loss: 0.07806 (1.08119), wps: 15338.3\n",
      "\u001b[36m[INFO ]\u001b[0mvalid: @49 eval_loss: 0.08713 (1.09104), wps: 37472.1\n"
     ]
    },
    {
     "data": {
      "text/plain": [
       "<seqmodel.experiment.run_info.TrainingState at 0x7fe3212bc910>"
      ]
     },
     "execution_count": 5,
     "metadata": {},
     "output_type": "execute_result"
    }
   ],
   "source": [
    "agent.train(train_iter, 20, valid_iter, 20, verbose=True)"
   ]
  },
  {
   "cell_type": "code",
   "execution_count": 7,
   "metadata": {
    "collapsed": false
   },
   "outputs": [
    {
     "name": "stdout",
     "output_type": "stream",
     "text": [
      "PPL: 0.0871275737847\n",
      "Each match: 0.958608730159\n",
      "Exact match: 0.852\n",
      "BLEU: 0.921656665336\n"
     ]
    }
   ],
   "source": [
    "info = agent.evaluate(valid_iter, 20)\n",
    "print(\"PPL: {}\".format(\n",
    "    info.eval_cost/info.num_tokens))\n",
    "\n",
    "valid_env = data.env.CopyEnv(valid_iter, re_init=False, reward_mode=data.env.ToyRewardMode.EACH_MATCH)\n",
    "valid_env.restart(batch_size=20)\n",
    "info = agent.evaluate_policy(valid_env)\n",
    "print('Each match: {}'.format(-1 * info.eval_loss))\n",
    "\n",
    "valid_hard_env = data.env.CopyEnv(valid_iter, re_init=False, reward_mode=data.env.ToyRewardMode.ALL_MATCH)\n",
    "valid_hard_env.restart(batch_size=20)\n",
    "info = agent.evaluate_policy(valid_hard_env)\n",
    "print('Exact match: {}'.format(-1 * info.eval_loss))\n",
    "\n",
    "valid_bleu_env = data.env.CopyEnv(valid_iter, re_init=False, reward_mode=data.env.ToyRewardMode.SEN_BLEU)\n",
    "valid_bleu_env.restart(batch_size=20)\n",
    "info = agent.evaluate_policy(valid_bleu_env)\n",
    "print('BLEU: {}'.format(-1 * info.eval_loss))"
   ]
  },
  {
   "cell_type": "code",
   "execution_count": 8,
   "metadata": {
    "collapsed": false,
    "scrolled": true
   },
   "outputs": [
    {
     "name": "stderr",
     "output_type": "stream",
     "text": [
      "\u001b[36m[INFO ]\u001b[0mep: 0, lr: 0.300000\n",
      "\u001b[36m[INFO ]\u001b[0mtrain: @100 tr_loss: -0.11119, base_loss: 0.02524, avg_return: 0.93516, wps: 9942.5\n",
      "\u001b[36m[INFO ]\u001b[0mvalid: @10 avg_return: 0.92200, wps: 26810.6\n",
      "\u001b[36m[INFO ]\u001b[0mep: 1, lr: 0.300000\n",
      "\u001b[36m[INFO ]\u001b[0mtrain: @100 tr_loss: -0.09094, base_loss: 0.00691, avg_return: 0.94783, wps: 10502.8\n",
      "\u001b[36m[INFO ]\u001b[0mvalid: @10 avg_return: 0.94000, wps: 23781.7\n",
      "\u001b[36m[INFO ]\u001b[0mep: 2, lr: 0.300000\n",
      "\u001b[36m[INFO ]\u001b[0mtrain: @100 tr_loss: -0.07769, base_loss: 0.00506, avg_return: 0.95311, wps: 10626.9\n",
      "\u001b[36m[INFO ]\u001b[0mvalid: @10 avg_return: 0.93900, wps: 27211.6\n",
      "\u001b[36m[INFO ]\u001b[0mep: 3, lr: 0.300000\n",
      "\u001b[36m[INFO ]\u001b[0mtrain: @100 tr_loss: -0.07511, base_loss: 0.00444, avg_return: 0.95557, wps: 10365.3\n",
      "\u001b[36m[INFO ]\u001b[0mvalid: @10 avg_return: 0.94200, wps: 25807.0\n",
      "\u001b[36m[INFO ]\u001b[0mep: 4, lr: 0.300000\n",
      "\u001b[36m[INFO ]\u001b[0mtrain: @100 tr_loss: -0.07230, base_loss: 0.00416, avg_return: 0.95655, wps: 10111.3\n",
      "\u001b[36m[INFO ]\u001b[0mvalid: @10 avg_return: 0.94200, wps: 27234.3\n"
     ]
    }
   ],
   "source": [
    "agent.reset_training_state()\n",
    "train_env = data.env.CopyEnv(train_iter, re_init=False, reward_mode=data.env.ToyRewardMode.EACH_MATCH)\n",
    "# train_env = data.env.CopyEnv(train_iter, re_init=False, reward_mode=data.env.ToyRewardMode.ALL_MATCH)\n",
    "info = agent.policy_gradient(train_env, 100, valid_hard_env, 20, max_steps=20)"
   ]
  },
  {
   "cell_type": "code",
   "execution_count": 9,
   "metadata": {
    "collapsed": false
   },
   "outputs": [
    {
     "name": "stdout",
     "output_type": "stream",
     "text": [
      "PPL: 0.0422084542905\n",
      "Each match: 0.984306349206\n",
      "Exact match: 0.942\n",
      "BLEU: 0.956616780586\n"
     ]
    }
   ],
   "source": [
    "info = agent.evaluate(valid_iter, 20)\n",
    "print(\"PPL: {}\".format(\n",
    "    info.eval_cost/info.num_tokens))\n",
    "\n",
    "valid_env = data.env.CopyEnv(valid_iter, re_init=False, reward_mode=data.env.ToyRewardMode.EACH_MATCH)\n",
    "valid_env.restart(batch_size=20)\n",
    "info = agent.evaluate_policy(valid_env)\n",
    "print('Each match: {}'.format(-1 * info.eval_loss))\n",
    "\n",
    "valid_hard_env = data.env.CopyEnv(valid_iter, re_init=False, reward_mode=data.env.ToyRewardMode.ALL_MATCH)\n",
    "valid_hard_env.restart(batch_size=20)\n",
    "info = agent.evaluate_policy(valid_hard_env)\n",
    "print('Exact match: {}'.format(-1 * info.eval_loss))\n",
    "\n",
    "valid_bleu_env = data.env.CopyEnv(valid_iter, re_init=False, reward_mode=data.env.ToyRewardMode.SEN_BLEU)\n",
    "valid_bleu_env.restart(batch_size=20)\n",
    "info = agent.evaluate_policy(valid_bleu_env)\n",
    "print('BLEU: {}'.format(-1 * info.eval_loss))"
   ]
  },
  {
   "cell_type": "code",
   "execution_count": null,
   "metadata": {
    "collapsed": false
   },
   "outputs": [],
   "source": [
    "test_data = ([['a a b c a d', 'a a b c a d'], ['a h a j b c d a b', 'a h a j b c d a b']])\n",
    "test_iter = data.Seq2SeqIterator(vocab, vocab)\n",
    "test_iter.initialize(test_data)\n",
    "test_iter.init_batch(2)\n",
    "env = data.env.CopyEnv(test_iter, re_init=False, reward_mode=data.env.ToyRewardMode.EACH_MATCH)\n",
    "# env = data.env.Seq2SeqEnv(test_iter, re_init=False)\n",
    "transitions, states, rewards = agent.rollout(env, greedy=True)\n",
    "rewards = np.array(rewards)\n",
    "returns, targets = agent._compute_return(states, rewards)\n",
    "print('Return: ') \n",
    "print(returns.T)\n",
    "print('Target: ')\n",
    "print(targets.T)\n",
    "pg_data = env.create_transition_return(states, returns)\n",
    "val_data = env.create_transition_value(states, targets)"
   ]
  },
  {
   "cell_type": "code",
   "execution_count": null,
   "metadata": {
    "collapsed": false
   },
   "outputs": [],
   "source": [
    "pg_data.features.encoder_input.T"
   ]
  },
  {
   "cell_type": "code",
   "execution_count": null,
   "metadata": {
    "collapsed": false
   },
   "outputs": [],
   "source": [
    "pg_data.labels.decoder_label.T"
   ]
  },
  {
   "cell_type": "code",
   "execution_count": null,
   "metadata": {
    "collapsed": false
   },
   "outputs": [],
   "source": [
    "pg_data.labels.decoder_label_weight.T"
   ]
  },
  {
   "cell_type": "code",
   "execution_count": null,
   "metadata": {
    "collapsed": false
   },
   "outputs": [],
   "source": [
    "(targets - returns).T"
   ]
  },
  {
   "cell_type": "code",
   "execution_count": null,
   "metadata": {
    "collapsed": false
   },
   "outputs": [],
   "source": [
    "targets.T"
   ]
  },
  {
   "cell_type": "code",
   "execution_count": null,
   "metadata": {
    "collapsed": true
   },
   "outputs": [],
   "source": []
  }
 ],
 "metadata": {
  "kernelspec": {
   "display_name": "Python 2",
   "language": "python",
   "name": "python2"
  },
  "language_info": {
   "codemirror_mode": {
    "name": "ipython",
    "version": 2
   },
   "file_extension": ".py",
   "mimetype": "text/x-python",
   "name": "python",
   "nbconvert_exporter": "python",
   "pygments_lexer": "ipython2",
   "version": "2.7.11"
  }
 },
 "nbformat": 4,
 "nbformat_minor": 0
}
