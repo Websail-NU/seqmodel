{
 "cells": [
  {
   "cell_type": "code",
   "execution_count": 1,
   "metadata": {
    "collapsed": false
   },
   "outputs": [],
   "source": [
    "import sys\n",
    "import time\n",
    "import tensorflow as tf\n",
    "import numpy as np\n",
    "sys.path.insert(0, '../')\n",
    "%load_ext autoreload\n",
    "%autoreload 2"
   ]
  },
  {
   "cell_type": "code",
   "execution_count": 10,
   "metadata": {
    "collapsed": false
   },
   "outputs": [],
   "source": [
    "from seqmodel.bunch import Bunch\n",
    "from seqmodel.experiment.basic_agent import BasicAgent\n",
    "from seqmodel import model\n",
    "from seqmodel import data"
   ]
  },
  {
   "cell_type": "code",
   "execution_count": 11,
   "metadata": {
    "collapsed": true
   },
   "outputs": [],
   "source": [
    "vocab = data.Vocabulary.from_vocab_file('../data/tiny_copy/vocab.txt')\n",
    "valid_iter = data.Seq2SeqIterator(vocab, vocab)\n",
    "valid_iter.initialize('../data/tiny_copy/valid.txt')"
   ]
  },
  {
   "cell_type": "code",
   "execution_count": 13,
   "metadata": {
    "collapsed": false
   },
   "outputs": [
    {
     "name": "stderr",
     "output_type": "stream",
     "text": [
      "\u001b[36m[INFO ]\u001b[0mep: 0, lr: 0.300000\n"
     ]
    },
    {
     "name": "stdout",
     "output_type": "stream",
     "text": [
      "basic_agent/model/encoder_embedding:0, (15, 64)\n",
      "basic_agent/model/decoder_embedding:0, (15, 64)\n",
      "basic_agent/model/encoder_rnn/rnn/basic_lstm_cell/weights:0, (128, 256)\n",
      "basic_agent/model/encoder_rnn/rnn/basic_lstm_cell/biases:0, (256,)\n",
      "basic_agent/model/decoder_rnn/rnn/basic_lstm_cell/weights:0, (128, 256)\n",
      "basic_agent/model/decoder_rnn/rnn/basic_lstm_cell/biases:0, (256,)\n",
      "basic_agent/model/decoder_rnn/logit_w:0, (15, 64)\n",
      "basic_agent/model/decoder_rnn/logit_b:0, (15,)\n"
     ]
    },
    {
     "name": "stderr",
     "output_type": "stream",
     "text": [
      "\u001b[36m[INFO ]\u001b[0mtrain: @99 tr_loss: 15.19742, eval_loss: 2.28316, wps: 2723.4\n",
      "\u001b[36m[INFO ]\u001b[0mvalid: @99 tr_loss: 0.00000, eval_loss: 1.94776, wps: 7716.3\n",
      "\u001b[36m[INFO ]\u001b[0mep: 1, lr: 0.300000\n",
      "\u001b[36m[INFO ]\u001b[0mtrain: @99 tr_loss: 11.86525, eval_loss: 1.78379, wps: 2897.9\n",
      "\u001b[36m[INFO ]\u001b[0mvalid: @99 tr_loss: 0.00000, eval_loss: 1.52662, wps: 7527.5\n",
      "\u001b[36m[INFO ]\u001b[0mep: 2, lr: 0.300000\n",
      "\u001b[36m[INFO ]\u001b[0mtrain: @99 tr_loss: 8.48660, eval_loss: 1.26395, wps: 2818.2\n",
      "\u001b[36m[INFO ]\u001b[0mvalid: @99 tr_loss: 0.00000, eval_loss: 0.89669, wps: 8077.1\n",
      "\u001b[36m[INFO ]\u001b[0mep: 3, lr: 0.300000\n",
      "\u001b[36m[INFO ]\u001b[0mtrain: @99 tr_loss: 5.59850, eval_loss: 0.82901, wps: 2779.4\n",
      "\u001b[36m[INFO ]\u001b[0mvalid: @99 tr_loss: 0.00000, eval_loss: 0.70110, wps: 7763.8\n",
      "\u001b[36m[INFO ]\u001b[0mep: 4, lr: 0.300000\n",
      "\u001b[36m[INFO ]\u001b[0mtrain: @99 tr_loss: 3.82389, eval_loss: 0.56853, wps: 2962.7\n",
      "\u001b[36m[INFO ]\u001b[0mvalid: @99 tr_loss: 0.00000, eval_loss: 0.42430, wps: 7859.5\n",
      "\u001b[36m[INFO ]\u001b[0mep: 5, lr: 0.300000\n",
      "\u001b[36m[INFO ]\u001b[0mtrain: @99 tr_loss: 2.79611, eval_loss: 0.41642, wps: 2805.2\n",
      "\u001b[36m[INFO ]\u001b[0mvalid: @99 tr_loss: 0.00000, eval_loss: 0.41574, wps: 7988.4\n",
      "\u001b[36m[INFO ]\u001b[0mep: 6, lr: 0.300000\n",
      "\u001b[36m[INFO ]\u001b[0mtrain: @99 tr_loss: 2.03810, eval_loss: 0.30117, wps: 2846.6\n",
      "\u001b[36m[INFO ]\u001b[0mvalid: @99 tr_loss: 0.00000, eval_loss: 0.27167, wps: 8378.5\n",
      "\u001b[36m[INFO ]\u001b[0mep: 7, lr: 0.300000\n",
      "\u001b[36m[INFO ]\u001b[0mtrain: @99 tr_loss: 1.49655, eval_loss: 0.22244, wps: 2917.3\n",
      "\u001b[36m[INFO ]\u001b[0mvalid: @99 tr_loss: 0.00000, eval_loss: 0.18302, wps: 8317.0\n",
      "\u001b[36m[INFO ]\u001b[0mep: 8, lr: 0.300000\n",
      "\u001b[36m[INFO ]\u001b[0mtrain: @99 tr_loss: 1.21950, eval_loss: 0.18144, wps: 2851.4\n",
      "\u001b[36m[INFO ]\u001b[0mvalid: @99 tr_loss: 0.00000, eval_loss: 0.21138, wps: 7759.9\n",
      "\u001b[36m[INFO ]\u001b[0mep: 9, lr: 0.300000\n"
     ]
    },
    {
     "name": "stdout",
     "output_type": "stream",
     "text": [
      "PPL: 0.142930377801, time: 0.827893018723\n"
     ]
    }
   ],
   "source": [
    "tf.reset_default_graph()\n",
    "agent_opt = BasicAgent.default_opt()\n",
    "emb_opt = agent_opt.model.model_opt.embedding\n",
    "dec_opt = agent_opt.model.model_opt.decoder\n",
    "enc_opt = agent_opt.model.model_opt.encoder\n",
    "optim_opt = agent_opt.optim\n",
    "\n",
    "emb_opt.decoder_dim = 64\n",
    "emb_opt.encoder_dim = 64\n",
    "\n",
    "dec_opt.rnn_opt.rnn_cell.cell_opt.num_units = 64\n",
    "enc_opt.rnn_opt.rnn_cell.cell_opt.num_units = 64\n",
    "\n",
    "optim_opt.learning_rate = 0.3\n",
    "optim_opt.name = 'GradientDescentOptimizer'\n",
    "\n",
    "sess = tf.Session()\n",
    "agent = BasicAgent(agent_opt, sess)\n",
    "agent.initialize_model(with_training=True)\n",
    "agent.initialize_optim()\n",
    "for v in tf.trainable_variables():\n",
    "    print('{}, {}'.format(v.name, v.get_shape()))\n",
    "sess.run(tf.global_variables_initializer())\n",
    "agent.train(valid_iter, 10, valid_iter, 10, verbose=True)\n",
    "info = agent.evaluate(valid_iter, 10)\n",
    "print(\"PPL: {}, time: {}\".format(\n",
    "    info.eval_cost/info.num_tokens, info.end_time - info.start_time))"
   ]
  },
  {
   "cell_type": "code",
   "execution_count": 14,
   "metadata": {
    "collapsed": false
   },
   "outputs": [],
   "source": [
    "test_data = ([['d e f', '']])\n",
    "test_iter = data.Seq2SeqIterator(vocab, vocab)\n",
    "test_iter.initialize(test_data)\n",
    "test_iter.init_batch(1)\n",
    "env = data.environment.Env(test_iter, re_init=False)"
   ]
  },
  {
   "cell_type": "code",
   "execution_count": 15,
   "metadata": {
    "collapsed": false
   },
   "outputs": [],
   "source": [
    "res, trans = agent.sample(env, greedy=True)"
   ]
  },
  {
   "cell_type": "code",
   "execution_count": 16,
   "metadata": {
    "collapsed": false
   },
   "outputs": [
    {
     "data": {
      "text/plain": [
       "[SampleOutputTuple(batch=Seq2SeqBatchTuple(features=Seq2SeqFeatureTuple(encoder_input=array([[ 1],\n",
       "       [ 8],\n",
       "       [ 9],\n",
       "       [10],\n",
       "       [ 3]], dtype=int32), encoder_seq_len=array([5], dtype=int32), decoder_input=array([[2]], dtype=int32), decoder_seq_len=array([1], dtype=int32)), labels=Seq2SeqLabelTuple(decoder_label=array([[0]], dtype=int32), decoder_label_weight=array([[ 1.]], dtype=float32), decoder_seq_label=array([ 1.], dtype=float32)), num_tokens=1.0), samples=[array([[ 8],\n",
       "       [ 9],\n",
       "       [10],\n",
       "       [ 0]])], scores=[array([[ 0.99131376],\n",
       "       [ 0.9912107 ],\n",
       "       [ 0.99973089],\n",
       "       [ 0.99922585]], dtype=float32)])]"
      ]
     },
     "execution_count": 16,
     "metadata": {},
     "output_type": "execute_result"
    }
   ],
   "source": [
    "res"
   ]
  },
  {
   "cell_type": "code",
   "execution_count": 17,
   "metadata": {
    "collapsed": false
   },
   "outputs": [
    {
     "data": {
      "text/plain": [
       "Seq2SeqFeatureTuple(encoder_input=array([[ 1],\n",
       "       [ 8],\n",
       "       [ 9],\n",
       "       [10],\n",
       "       [ 3]], dtype=int32), encoder_seq_len=array([5], dtype=int32), decoder_input=array([[2]], dtype=int32), decoder_seq_len=array([1], dtype=int32))"
      ]
     },
     "execution_count": 17,
     "metadata": {},
     "output_type": "execute_result"
    }
   ],
   "source": [
    "res[0].batch.features"
   ]
  },
  {
   "cell_type": "code",
   "execution_count": 18,
   "metadata": {
    "collapsed": false
   },
   "outputs": [
    {
     "data": {
      "text/plain": [
       "[array([[ 8],\n",
       "        [ 9],\n",
       "        [10],\n",
       "        [ 0]])]"
      ]
     },
     "execution_count": 18,
     "metadata": {},
     "output_type": "execute_result"
    }
   ],
   "source": [
    "res[0].samples"
   ]
  },
  {
   "cell_type": "code",
   "execution_count": 19,
   "metadata": {
    "collapsed": false
   },
   "outputs": [
    {
     "data": {
      "text/plain": [
       "[array([[ 0.99131376],\n",
       "        [ 0.9912107 ],\n",
       "        [ 0.99973089],\n",
       "        [ 0.99922585]], dtype=float32)]"
      ]
     },
     "execution_count": 19,
     "metadata": {},
     "output_type": "execute_result"
    }
   ],
   "source": [
    "res[0].scores"
   ]
  },
  {
   "cell_type": "code",
   "execution_count": null,
   "metadata": {
    "collapsed": true
   },
   "outputs": [],
   "source": []
  }
 ],
 "metadata": {
  "kernelspec": {
   "display_name": "Python 2",
   "language": "python",
   "name": "python2"
  },
  "language_info": {
   "codemirror_mode": {
    "name": "ipython",
    "version": 2
   },
   "file_extension": ".py",
   "mimetype": "text/x-python",
   "name": "python",
   "nbconvert_exporter": "python",
   "pygments_lexer": "ipython2",
   "version": "2.7.11"
  }
 },
 "nbformat": 4,
 "nbformat_minor": 0
}
