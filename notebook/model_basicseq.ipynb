{
 "cells": [
  {
   "cell_type": "code",
   "execution_count": 1,
   "metadata": {
    "collapsed": true
   },
   "outputs": [],
   "source": [
    "import sys\n",
    "import time\n",
    "import tensorflow as tf\n",
    "import numpy as np\n",
    "sys.path.insert(0, '../')\n",
    "%load_ext autoreload\n",
    "%autoreload 2"
   ]
  },
  {
   "cell_type": "code",
   "execution_count": 2,
   "metadata": {
    "collapsed": false
   },
   "outputs": [],
   "source": [
    "from seqmodel.bunch import Bunch\n",
    "from seqmodel import model\n",
    "from seqmodel import data"
   ]
  },
  {
   "cell_type": "code",
   "execution_count": 3,
   "metadata": {
    "collapsed": false
   },
   "outputs": [],
   "source": [
    "tf.reset_default_graph()\n",
    "model_opt = model.seq_model.BasicSeqModel.default_opt()\n",
    "model_fn = model.seq_model.BasicSeqModel(model_opt)\n",
    "lm = model_fn(is_training=True)\n",
    "optimizer = tf.train.AdamOptimizer()\n",
    "g_v_pairs =  optimizer.compute_gradients(lm.training_loss, tf.trainable_variables())\n",
    "train_op = optimizer.apply_gradients(g_v_pairs)"
   ]
  },
  {
   "cell_type": "code",
   "execution_count": 4,
   "metadata": {
    "collapsed": false
   },
   "outputs": [],
   "source": [
    "vocab = data.Vocabulary.from_vocab_file('../data/tiny_single/vocab.txt')\n",
    "valid_iter = data.TokenIterator(vocab, vocab)\n",
    "valid_iter.initialize('../data/tiny_single/valid.txt')\n",
    "valid_iter.init_batch(4)"
   ]
  },
  {
   "cell_type": "code",
   "execution_count": 5,
   "metadata": {
    "collapsed": false
   },
   "outputs": [],
   "source": [
    "sess_config = tf.ConfigProto(device_count={'GPU': 0})\n",
    "sess = tf.Session(config = sess_config)\n",
    "sess.run(tf.global_variables_initializer())\n",
    "batch = valid_iter.next_batch()\n",
    "state = None"
   ]
  },
  {
   "cell_type": "code",
   "execution_count": 6,
   "metadata": {
    "collapsed": false
   },
   "outputs": [],
   "source": [
    "prediction, state, info = lm.predict(sess, batch.features, state=state, new_seq=True)"
   ]
  },
  {
   "cell_type": "code",
   "execution_count": 7,
   "metadata": {
    "collapsed": false
   },
   "outputs": [],
   "source": [
    "eval_loss, state, info = lm.evaluate(sess, batch)"
   ]
  },
  {
   "cell_type": "code",
   "execution_count": 8,
   "metadata": {
    "collapsed": false
   },
   "outputs": [],
   "source": [
    "eval_loss, train_loss, state, info = lm.train(sess, batch, train_op)"
   ]
  },
  {
   "cell_type": "code",
   "execution_count": 9,
   "metadata": {
    "collapsed": false
   },
   "outputs": [
    {
     "name": "stdout",
     "output_type": "stream",
     "text": [
      "_all_:\n",
      "  decode:\n",
      "    decode_output:\n",
      "      distribution: Tensor(\"model/rnn_decoder_1/decoder_rnn/Reshape_3:0\", dtype=float32)\n",
      "      final_state: LSTMStateTuple(c=<tf.Tensor 'model/rnn_decoder_1/decoder_rnn/rnn/while/Exit_2:0' shape=(?, 128) dtype=float32>, h=<tf.Tensor 'model/rnn_decoder_1/decoder_rnn/rnn/while/Exit_3:0' shape=(?, 128) dtype=float32>)\n",
      "      initial_state: LSTMStateTuple(c=<tf.Tensor 'model/rnn_decoder_1/decoder_rnn/zeros:0' shape=(?, 128) dtype=float32>, h=<tf.Tensor 'model/rnn_decoder_1/decoder_rnn/zeros_1:0' shape=(?, 128) dtype=float32>)\n",
      "      logit: Tensor(\"model/rnn_decoder_1/decoder_rnn/div:0\", dtype=float32)\n",
      "      logit_temperature: Tensor(\"model/rnn_decoder_1/decoder_rnn/logit_temperature:0\", dtype=float32)\n",
      "      rnn:\n",
      "        _logit_b: Tensor(\"model/decoder_rnn/logit_b/read:0\", shape=(15,), dtype=float32)\n",
      "        _logit_w: Tensor(\"model/decoder_rnn/logit_w/read:0\", shape=(15, 128), dtype=float32)\n",
      "        cell_output: Tensor(\"model/rnn_decoder_1/decoder_rnn/rnn/TensorArrayStack/TensorArrayGatherV3:0\", shape=(?, ?, 128), dtype=float32)\n",
      "        distribution: Tensor(\"model/rnn_decoder_1/decoder_rnn/Reshape_3:0\", dtype=float32)\n",
      "        final_state: LSTMStateTuple(c=<tf.Tensor 'model/rnn_decoder_1/decoder_rnn/rnn/while/Exit_2:0' shape=(?, 128) dtype=float32>, h=<tf.Tensor 'model/rnn_decoder_1/decoder_rnn/rnn/while/Exit_3:0' shape=(?, 128) dtype=float32>)\n",
      "        initial_state: LSTMStateTuple(c=<tf.Tensor 'model/rnn_decoder_1/decoder_rnn/zeros:0' shape=(?, 128) dtype=float32>, h=<tf.Tensor 'model/rnn_decoder_1/decoder_rnn/zeros_1:0' shape=(?, 128) dtype=float32>)\n",
      "        logit: Tensor(\"model/rnn_decoder_1/decoder_rnn/div:0\", dtype=float32)\n",
      "        logit_temperature: Tensor(\"model/rnn_decoder_1/decoder_rnn/logit_temperature:0\", dtype=float32)\n",
      "    decoder_module: <seqmodel.model.module.decoder.RNNDecoder object at 0x7fa861c3ee50>\n",
      "    rnn_module: <seqmodel.model.module.rnn_module.BasicRNNModule object at 0x7fa861c3e7d0>\n",
      "  inputs:\n",
      "    embedding_vars: Tensor(\"model/embedding/read:0\", shape=(15, 100), dtype=float32)\n",
      "    input_seq_len: Tensor(\"model/input_seq_len:0\", shape=(?,), dtype=int32)\n",
      "    inputs: Tensor(\"model/inputs:0\", shape=(?, ?), dtype=int32)\n",
      "    label: Tensor(\"model/label:0\", shape=(?, ?), dtype=int32)\n",
      "    label_weight: Tensor(\"model/label_weight:0\", shape=(?, ?), dtype=float32)\n",
      "    lookup: Tensor(\"model/lookup:0\", shape=(?, ?, 100), dtype=float32)\n",
      "features: SeqFeatureTuple(inputs=<tf.Tensor 'model/inputs:0' shape=(?, ?) dtype=int32>, input_seq_len=<tf.Tensor 'model/input_seq_len:0' shape=(?,) dtype=int32>)\n",
      "labels: SeqLabelTuple(label=<tf.Tensor 'model/label:0' shape=(?, ?) dtype=int32>, label_weight=<tf.Tensor 'model/label_weight:0' shape=(?, ?) dtype=float32>)\n",
      "losses:\n",
      "  eval_loss: Tensor(\"model/div_1:0\", shape=(), dtype=float32)\n",
      "  tokens_loss: None\n",
      "  training_loss: Tensor(\"model/div:0\", dtype=float32)\n",
      "output:\n",
      "  distribution: Tensor(\"model/rnn_decoder_1/decoder_rnn/Reshape_3:0\", dtype=float32)\n",
      "  logit: Tensor(\"model/rnn_decoder_1/decoder_rnn/div:0\", dtype=float32)\n",
      "  prediction: Tensor(\"model/rnn_decoder_1/decoder_rnn/Reshape_3:0\", dtype=float32)\n",
      "  rnn:\n",
      "    _logit_b: Tensor(\"model/decoder_rnn/logit_b/read:0\", shape=(15,), dtype=float32)\n",
      "    _logit_w: Tensor(\"model/decoder_rnn/logit_w/read:0\", shape=(15, 128), dtype=float32)\n",
      "    cell_output: Tensor(\"model/rnn_decoder_1/decoder_rnn/rnn/TensorArrayStack/TensorArrayGatherV3:0\", shape=(?, ?, 128), dtype=float32)\n",
      "    distribution: Tensor(\"model/rnn_decoder_1/decoder_rnn/Reshape_3:0\", dtype=float32)\n",
      "    final_state: LSTMStateTuple(c=<tf.Tensor 'model/rnn_decoder_1/decoder_rnn/rnn/while/Exit_2:0' shape=(?, 128) dtype=float32>, h=<tf.Tensor 'model/rnn_decoder_1/decoder_rnn/rnn/while/Exit_3:0' shape=(?, 128) dtype=float32>)\n",
      "    initial_state: LSTMStateTuple(c=<tf.Tensor 'model/rnn_decoder_1/decoder_rnn/zeros:0' shape=(?, 128) dtype=float32>, h=<tf.Tensor 'model/rnn_decoder_1/decoder_rnn/zeros_1:0' shape=(?, 128) dtype=float32>)\n",
      "    logit: Tensor(\"model/rnn_decoder_1/decoder_rnn/div:0\", dtype=float32)\n",
      "    logit_temperature: Tensor(\"model/rnn_decoder_1/decoder_rnn/logit_temperature:0\", dtype=float32)\n",
      "setting:\n",
      "  logit_temperature: Tensor(\"model/rnn_decoder_1/decoder_rnn/logit_temperature:0\", dtype=float32)\n",
      "  training_loss_denom: Tensor(\"model/training_loss_denom:0\", dtype=float32)\n"
     ]
    }
   ],
   "source": [
    "print(lm._nodes.to_pretty())"
   ]
  },
  {
   "cell_type": "code",
   "execution_count": null,
   "metadata": {
    "collapsed": true
   },
   "outputs": [],
   "source": []
  }
 ],
 "metadata": {
  "kernelspec": {
   "display_name": "Python 2",
   "language": "python",
   "name": "python2"
  },
  "language_info": {
   "codemirror_mode": {
    "name": "ipython",
    "version": 2
   },
   "file_extension": ".py",
   "mimetype": "text/x-python",
   "name": "python",
   "nbconvert_exporter": "python",
   "pygments_lexer": "ipython2",
   "version": "2.7.11"
  }
 },
 "nbformat": 4,
 "nbformat_minor": 0
}
