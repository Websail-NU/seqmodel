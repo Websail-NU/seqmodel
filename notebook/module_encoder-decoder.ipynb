{
 "cells": [
  {
   "cell_type": "code",
   "execution_count": 1,
   "metadata": {
    "collapsed": false
   },
   "outputs": [],
   "source": [
    "%load_ext autoreload\n",
    "%autoreload 2\n",
    "import sys\n",
    "sys.path.insert(0, '../')\n",
    "from seqmodel.bunch import Bunch"
   ]
  },
  {
   "cell_type": "code",
   "execution_count": 2,
   "metadata": {
    "collapsed": false
   },
   "outputs": [],
   "source": [
    "import time\n",
    "import tensorflow as tf\n",
    "import numpy as np\n",
    "from seqmodel.model import rnn_module\n",
    "from seqmodel.model import graph_util\n",
    "from seqmodel.model.rnn_module import BasicRNNModule\n",
    "from seqmodel.model.encoder import RNNEncoder\n",
    "from seqmodel.model.decoder import RNNDecoder"
   ]
  },
  {
   "cell_type": "code",
   "execution_count": 14,
   "metadata": {
    "collapsed": false
   },
   "outputs": [
    {
     "name": "stdout",
     "output_type": "stream",
     "text": [
      "share_rnn/rnn/basic_lstm_cell/weights:0\n",
      "share_rnn/rnn/basic_lstm_cell/biases:0\n",
      "basic_rnn_1/logit_w:0\n",
      "basic_rnn_1/logit_b:0\n"
     ]
    }
   ],
   "source": [
    "tf.reset_default_graph()\n",
    "batch_size = 4\n",
    "max_time = 5\n",
    "dim = 3\n",
    "input_data = np.random.randn(max_time, batch_size, dim).astype(np.float32)\n",
    "seq_len_data = np.array([4, 3, 2, 1], dtype=np.int32)\n",
    "inputs = tf.constant(input_data, dtype=tf.float32)\n",
    "seq_len = tf.constant(seq_len_data)\n",
    "rnn_template = tf.make_template('share_rnn', tf.nn.dynamic_rnn, create_scope_now_=True)\n",
    "# create share_rnn\n",
    "share_rnn_opt = rnn_module.BasicRNNModule.default_opt()\n",
    "share_rnn_opt.rnn_cell.cell_opt.num_units = 2\n",
    "share_rnn_opt.logit=None\n",
    "# create encoder\n",
    "enc_rnn_opt = share_rnn_opt.clone()\n",
    "enc = RNNEncoder(Bunch())(\n",
    "    inputs, seq_len, BasicRNNModule(enc_rnn_opt), rnn_fn=rnn_template)\n",
    "# create decoder\n",
    "dec_rnn_opt = share_rnn_opt.clone()\n",
    "dec_rnn_opt.logit = graph_util.default_logit_opt()\n",
    "dec_opt = Bunch(RNNDecoder.default_opt(), init_with_encoder_state=True)\n",
    "dec = RNNDecoder(dec_opt)(\n",
    "    inputs, enc, seq_len, BasicRNNModule(dec_rnn_opt), rnn_fn=rnn_template)\n",
    "for v in tf.trainable_variables():\n",
    "    print(v.name)"
   ]
  },
  {
   "cell_type": "code",
   "execution_count": 15,
   "metadata": {
    "collapsed": false
   },
   "outputs": [],
   "source": [
    "sess_config = tf.ConfigProto(log_device_placement=False,\n",
    "                             device_count={'GPU': 0})\n",
    "with tf.Session(config=sess_config) as sess:\n",
    "    sess.run(tf.global_variables_initializer())\n",
    "    fetch = Bunch(enc=Bunch(state=enc.final_state),\n",
    "                  dec=Bunch(state=dec.final_state))\n",
    "    result = sess.run(fetch)"
   ]
  },
  {
   "cell_type": "code",
   "execution_count": 16,
   "metadata": {
    "collapsed": false
   },
   "outputs": [
    {
     "data": {
      "text/plain": [
       "Bunch(state=LSTMStateTuple(c=array([[-0.53447843, -0.53694725],\n",
       "       [ 0.29738659,  0.71461028],\n",
       "       [ 0.10180426, -0.39652902],\n",
       "       [ 0.06853295, -0.25919485]], dtype=float32), h=array([[-0.2342958 , -0.22444737],\n",
       "       [ 0.18900128,  0.424936  ],\n",
       "       [ 0.03910675, -0.09876543],\n",
       "       [ 0.03483054, -0.10076944]], dtype=float32)))"
      ]
     },
     "execution_count": 16,
     "metadata": {},
     "output_type": "execute_result"
    }
   ],
   "source": [
    "result.enc"
   ]
  },
  {
   "cell_type": "code",
   "execution_count": 17,
   "metadata": {
    "collapsed": false
   },
   "outputs": [
    {
     "data": {
      "text/plain": [
       "Bunch(state=LSTMStateTuple(c=array([[-0.58815289, -0.57701033],\n",
       "       [ 0.31291491,  1.02366304],\n",
       "       [ 0.19453263, -0.61040354],\n",
       "       [ 0.14930536, -0.4588818 ]], dtype=float32), h=array([[-0.25378364, -0.23855136],\n",
       "       [ 0.19234848,  0.54710186],\n",
       "       [ 0.07544232, -0.13837117],\n",
       "       [ 0.07717793, -0.16435823]], dtype=float32)))"
      ]
     },
     "execution_count": 17,
     "metadata": {},
     "output_type": "execute_result"
    }
   ],
   "source": [
    "result.dec"
   ]
  },
  {
   "cell_type": "code",
   "execution_count": null,
   "metadata": {
    "collapsed": true
   },
   "outputs": [],
   "source": []
  }
 ],
 "metadata": {
  "kernelspec": {
   "display_name": "Python 2",
   "language": "python",
   "name": "python2"
  },
  "language_info": {
   "codemirror_mode": {
    "name": "ipython",
    "version": 2
   },
   "file_extension": ".py",
   "mimetype": "text/x-python",
   "name": "python",
   "nbconvert_exporter": "python",
   "pygments_lexer": "ipython2",
   "version": "2.7.11"
  }
 },
 "nbformat": 4,
 "nbformat_minor": 0
}
