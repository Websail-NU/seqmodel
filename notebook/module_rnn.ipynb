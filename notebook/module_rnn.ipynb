{
 "cells": [
  {
   "cell_type": "code",
   "execution_count": 2,
   "metadata": {
    "collapsed": false
   },
   "outputs": [],
   "source": [
    "%load_ext autoreload\n",
    "%autoreload 2\n",
    "import sys\n",
    "sys.path.insert(0, '../')\n",
    "from seqmodel.bunch import Bunch"
   ]
  },
  {
   "cell_type": "code",
   "execution_count": 5,
   "metadata": {
    "collapsed": false
   },
   "outputs": [],
   "source": [
    "import time\n",
    "import copy\n",
    "import tensorflow as tf\n",
    "import numpy as np\n",
    "from seqmodel.model import rnn_module\n",
    "from seqmodel.model import graph_util"
   ]
  },
  {
   "cell_type": "code",
   "execution_count": 21,
   "metadata": {
    "collapsed": false
   },
   "outputs": [
    {
     "name": "stdout",
     "output_type": "stream",
     "text": [
      "share_rnn/rnn/basic_lstm_cell/weights:0\n",
      "share_rnn/rnn/basic_lstm_cell/biases:0\n",
      "decoder/logit_w:0\n",
      "decoder/logit_b:0\n"
     ]
    }
   ],
   "source": [
    "tf.reset_default_graph()\n",
    "batch_size = 4\n",
    "max_time = 5\n",
    "dim = 3\n",
    "input_data = np.random.randn(max_time, batch_size, dim).astype(np.float32)\n",
    "seq_len_data = np.array([4, 3, 2, 1], dtype=np.int32)\n",
    "inputs = tf.constant(input_data, dtype=tf.float32)\n",
    "# inputs = tf.slice(inputs, [max_time, 0, 0], [-1, -1, -1])\n",
    "seq_len = tf.constant(seq_len_data)\n",
    "rnn_template = tf.make_template('share_rnn', tf.nn.dynamic_rnn, create_scope_now_=True)\n",
    "# create share_rnn\n",
    "share_rnn_opt = rnn_module.BasicRNNModule.default_opt()\n",
    "share_rnn_opt.rnn_cell.cell_opt.num_units = 2\n",
    "share_rnn_opt.logit=None\n",
    "enc_opt = copy.deepcopy(share_rnn_opt)\n",
    "enc = rnn_module.BasicRNNModule(enc_opt, name='encoder')(inputs, seq_len, rnn_fn=rnn_template)\n",
    "dec_opt = copy.deepcopy(share_rnn_opt)\n",
    "dec_opt.logit = graph_util.default_logit_opt()\n",
    "dec = rnn_module.BasicRNNModule(dec_opt, name='decoder')(\n",
    "    inputs, seq_len, rnn_fn=rnn_template, initial_state=enc.final_state)\n",
    "for v in tf.trainable_variables():\n",
    "    print(v.name)"
   ]
  },
  {
   "cell_type": "code",
   "execution_count": 22,
   "metadata": {
    "collapsed": false
   },
   "outputs": [],
   "source": [
    "sess_config = tf.ConfigProto(log_device_placement=False,\n",
    "                             device_count={'GPU': 0})\n",
    "with tf.Session(config=sess_config) as sess:\n",
    "    sess.run(tf.global_variables_initializer())\n",
    "    fetch = Bunch(inputs=inputs,\n",
    "                  enc=Bunch(state=enc.final_state, outputs=enc.cell_output),\n",
    "                  dec=Bunch(state=dec.final_state, outputs=dec.cell_output))\n",
    "    result = sess.run(fetch)"
   ]
  },
  {
   "cell_type": "code",
   "execution_count": 23,
   "metadata": {
    "collapsed": false
   },
   "outputs": [
    {
     "data": {
      "text/plain": [
       "Bunch(outputs=array([[[-0.05551952, -0.17745341],\n",
       "        [ 0.45945889,  0.20322596],\n",
       "        [ 0.2903592 ,  0.20640534],\n",
       "        [-0.04771867, -0.2949748 ]],\n",
       "\n",
       "       [[-0.06333468, -0.08701437],\n",
       "        [ 0.29879823,  0.11412661],\n",
       "        [ 0.29974586,  0.04292478],\n",
       "        [ 0.        ,  0.        ]],\n",
       "\n",
       "       [[-0.05984084, -0.11516758],\n",
       "        [ 0.35779566,  0.14393196],\n",
       "        [ 0.        ,  0.        ],\n",
       "        [ 0.        ,  0.        ]],\n",
       "\n",
       "       [[ 0.06619542, -0.00258966],\n",
       "        [ 0.        ,  0.        ],\n",
       "        [ 0.        ,  0.        ],\n",
       "        [ 0.        ,  0.        ]],\n",
       "\n",
       "       [[ 0.        ,  0.        ],\n",
       "        [ 0.        ,  0.        ],\n",
       "        [ 0.        ,  0.        ],\n",
       "        [ 0.        ,  0.        ]]], dtype=float32), state=LSTMStateTuple(c=array([[ 0.11464296, -0.00623642],\n",
       "       [ 0.75493264,  0.29318127],\n",
       "       [ 0.67389071,  0.14293405],\n",
       "       [-0.17841384, -0.44135126]], dtype=float32), h=array([[ 0.06619542, -0.00258966],\n",
       "       [ 0.35779566,  0.14393196],\n",
       "       [ 0.29974586,  0.04292478],\n",
       "       [-0.04771867, -0.2949748 ]], dtype=float32)))"
      ]
     },
     "execution_count": 23,
     "metadata": {},
     "output_type": "execute_result"
    }
   ],
   "source": [
    "result.enc"
   ]
  },
  {
   "cell_type": "code",
   "execution_count": 24,
   "metadata": {
    "collapsed": false
   },
   "outputs": [
    {
     "data": {
      "text/plain": [
       "Bunch(outputs=array([[[-0.01655734, -0.18060914],\n",
       "        [ 0.58960813,  0.34188023],\n",
       "        [ 0.46440688,  0.27818632],\n",
       "        [-0.08611448, -0.50745291]],\n",
       "\n",
       "       [[-0.02240832, -0.08838212],\n",
       "        [ 0.351872  ,  0.17394544],\n",
       "        [ 0.35927469,  0.05469111],\n",
       "        [ 0.        ,  0.        ]],\n",
       "\n",
       "       [[-0.01777641, -0.11658371],\n",
       "        [ 0.39684907,  0.19325076],\n",
       "        [ 0.        ,  0.        ],\n",
       "        [ 0.        ,  0.        ]],\n",
       "\n",
       "       [[ 0.09870893, -0.00361167],\n",
       "        [ 0.        ,  0.        ],\n",
       "        [ 0.        ,  0.        ],\n",
       "        [ 0.        ,  0.        ]],\n",
       "\n",
       "       [[ 0.        ,  0.        ],\n",
       "        [ 0.        ,  0.        ],\n",
       "        [ 0.        ,  0.        ],\n",
       "        [ 0.        ,  0.        ]]], dtype=float32), state=LSTMStateTuple(c=array([[ 0.17343497, -0.00864151],\n",
       "       [ 0.8960253 ,  0.40930146],\n",
       "       [ 0.93489581,  0.1836054 ],\n",
       "       [-0.33050391, -0.82711327]], dtype=float32), h=array([[ 0.09870893, -0.00361167],\n",
       "       [ 0.39684907,  0.19325076],\n",
       "       [ 0.35927469,  0.05469111],\n",
       "       [-0.08611448, -0.50745291]], dtype=float32)))"
      ]
     },
     "execution_count": 24,
     "metadata": {},
     "output_type": "execute_result"
    }
   ],
   "source": [
    "result.dec"
   ]
  },
  {
   "cell_type": "code",
   "execution_count": 25,
   "metadata": {
    "collapsed": false
   },
   "outputs": [
    {
     "data": {
      "text/plain": [
       "array([[[-1.76871634,  0.97102064, -1.44185841],\n",
       "        [ 0.38082048,  1.58393133,  0.88840854],\n",
       "        [-0.07286013,  1.02017522,  1.12544453],\n",
       "        [-2.11796188,  0.16951987, -0.77417612]],\n",
       "\n",
       "       [[ 0.48452482, -0.59376633, -0.54090321],\n",
       "        [ 0.63103467,  0.27867132, -0.49724039],\n",
       "        [ 1.76447403,  0.17218235, -1.51190579],\n",
       "        [-0.40062335, -0.35411108,  0.87544507]],\n",
       "\n",
       "       [[-0.13708884,  0.40645659, -0.81410635],\n",
       "        [ 0.49890959,  0.45203853, -0.10353998],\n",
       "        [ 1.00506556,  0.29860762,  1.09288502],\n",
       "        [-0.38584483,  2.34337783, -0.0965653 ]],\n",
       "\n",
       "       [[ 0.63455939, -0.37998897,  0.69583702],\n",
       "        [ 0.63661444,  0.64823347,  0.1341929 ],\n",
       "        [ 0.49124098, -1.10873079,  0.11810127],\n",
       "        [-0.58233732,  0.27009308, -0.41079408]],\n",
       "\n",
       "       [[-0.76649064, -1.01023149, -0.17885061],\n",
       "        [-1.41704857,  0.8663041 ,  0.8057878 ],\n",
       "        [ 1.54822505, -0.07733702,  0.98164129],\n",
       "        [ 0.63696241,  1.68602681, -0.68549204]]], dtype=float32)"
      ]
     },
     "execution_count": 25,
     "metadata": {},
     "output_type": "execute_result"
    }
   ],
   "source": [
    "result.inputs"
   ]
  },
  {
   "cell_type": "code",
   "execution_count": null,
   "metadata": {
    "collapsed": true
   },
   "outputs": [],
   "source": []
  }
 ],
 "metadata": {
  "kernelspec": {
   "display_name": "Python 2",
   "language": "python",
   "name": "python2"
  },
  "language_info": {
   "codemirror_mode": {
    "name": "ipython",
    "version": 2
   },
   "file_extension": ".py",
   "mimetype": "text/x-python",
   "name": "python",
   "nbconvert_exporter": "python",
   "pygments_lexer": "ipython2",
   "version": "2.7.11"
  }
 },
 "nbformat": 4,
 "nbformat_minor": 0
}
