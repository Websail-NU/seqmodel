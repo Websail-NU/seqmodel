{
 "cells": [
  {
   "cell_type": "code",
   "execution_count": 1,
   "metadata": {
    "collapsed": true
   },
   "outputs": [],
   "source": [
    "import sys\n",
    "import time\n",
    "import tensorflow as tf\n",
    "import numpy as np\n",
    "sys.path.insert(0, '../')\n",
    "%load_ext autoreload\n",
    "%autoreload 2"
   ]
  },
  {
   "cell_type": "code",
   "execution_count": 2,
   "metadata": {
    "collapsed": false
   },
   "outputs": [],
   "source": [
    "from seqmodel.bunch import Bunch\n",
    "from seqmodel import model\n",
    "from seqmodel import data"
   ]
  },
  {
   "cell_type": "code",
   "execution_count": 56,
   "metadata": {
    "collapsed": false
   },
   "outputs": [
    {
     "name": "stdout",
     "output_type": "stream",
     "text": [
      "model/shared_embedding:0, (15, 10)\n",
      "model/shared_rnn/rnn/basic_lstm_cell/weights:0, (20, 40)\n",
      "model/shared_rnn/rnn/basic_lstm_cell/biases:0, (40,)\n",
      "model/decoder_rnn/logit_w:0, (1, 10)\n",
      "model/decoder_rnn/logit_b:0, (1,)\n"
     ]
    }
   ],
   "source": [
    "tf.reset_default_graph()\n",
    "model_opt = model.seq2seq_model.BasicSeq2SeqModel.default_opt()\n",
    "model_opt.output_mode = 'logit'\n",
    "model_opt.loss_type = 'mse'\n",
    "model_opt.decoder.rnn_opt.logit.out_vocab_size=1\n",
    "model_opt.embedding.decoder_dim = 10\n",
    "model_opt.embedding.encoder_dim = 10\n",
    "model_opt.decoder.rnn_opt.rnn_cell.cell_opt.num_units = 10\n",
    "model_opt.encoder.rnn_opt.rnn_cell.cell_opt.num_units = 10\n",
    "model_opt.decoder.share.encoder_rnn_params = True\n",
    "model_opt.decoder.share.encoder_embedding = True\n",
    "model_opt.decoder.share.logit_weight_tying = False\n",
    "model_fn = model.seq2seq_model.BasicSeq2SeqModel(model_opt)\n",
    "seq2seq_model = model_fn(is_training=True)\n",
    "optimizer = tf.train.AdamOptimizer(learning_rate=0.01)\n",
    "g_v_pairs =  optimizer.compute_gradients(seq2seq_model.training_loss, tf.trainable_variables())\n",
    "train_op = optimizer.apply_gradients(g_v_pairs)\n",
    "for v in tf.trainable_variables():\n",
    "    print(\"{}, {}\".format(v.name, v.get_shape()))"
   ]
  },
  {
   "cell_type": "code",
   "execution_count": 57,
   "metadata": {
    "collapsed": false
   },
   "outputs": [],
   "source": [
    "vocab = data.Vocabulary.from_vocab_file('../data/tiny_copy/vocab.txt')\n",
    "valid_iter = data.Seq2SeqIterator(vocab, vocab)\n",
    "valid_iter.initialize('../data/tiny_copy/valid.txt')\n",
    "valid_iter.init_batch(4)"
   ]
  },
  {
   "cell_type": "code",
   "execution_count": 71,
   "metadata": {
    "collapsed": false
   },
   "outputs": [],
   "source": [
    "sess_config = tf.ConfigProto(device_count={'GPU': 0})\n",
    "sess = tf.Session(config = sess_config)\n",
    "sess.run(tf.global_variables_initializer())\n",
    "batch = valid_iter.next_batch()\n",
    "_l = batch.labels\n",
    "labels = _l._replace(decoder_label=np.zeros_like(_l.decoder_label).astype(np.float32))\n",
    "batch = batch._replace(labels=labels)\n",
    "state = None"
   ]
  },
  {
   "cell_type": "code",
   "execution_count": 90,
   "metadata": {
    "collapsed": false
   },
   "outputs": [],
   "source": [
    "prediction, state, info = seq2seq_model.predict(sess, batch.features)"
   ]
  },
  {
   "cell_type": "code",
   "execution_count": 73,
   "metadata": {
    "collapsed": false
   },
   "outputs": [],
   "source": [
    "eval_loss, state, info = seq2seq_model.evaluate(sess, batch)"
   ]
  },
  {
   "cell_type": "code",
   "execution_count": 88,
   "metadata": {
    "collapsed": false
   },
   "outputs": [],
   "source": [
    "eval_loss, train_loss, state, info = seq2seq_model.train(sess, batch, train_op)"
   ]
  },
  {
   "cell_type": "code",
   "execution_count": 89,
   "metadata": {
    "collapsed": false
   },
   "outputs": [
    {
     "data": {
      "text/plain": [
       "0.00068569067"
      ]
     },
     "execution_count": 89,
     "metadata": {},
     "output_type": "execute_result"
    }
   ],
   "source": [
    "eval_loss"
   ]
  },
  {
   "cell_type": "code",
   "execution_count": 80,
   "metadata": {
    "collapsed": false
   },
   "outputs": [
    {
     "data": {
      "text/plain": [
       "0.001865093"
      ]
     },
     "execution_count": 80,
     "metadata": {},
     "output_type": "execute_result"
    }
   ],
   "source": [
    "train_loss"
   ]
  },
  {
   "cell_type": "code",
   "execution_count": 91,
   "metadata": {
    "collapsed": false
   },
   "outputs": [
    {
     "data": {
      "text/plain": [
       "array([[[  1.90190971e-04],\n",
       "        [  3.09576094e-03],\n",
       "        [  2.98764557e-03],\n",
       "        [ -2.11770013e-02]],\n",
       "\n",
       "       [[  1.41574778e-02],\n",
       "        [  1.20249167e-02],\n",
       "        [  9.36970115e-04],\n",
       "        [ -1.20998360e-02]],\n",
       "\n",
       "       [[ -2.01649964e-05],\n",
       "        [ -3.27211246e-03],\n",
       "        [  3.05108428e-02],\n",
       "        [ -2.94937436e-02]],\n",
       "\n",
       "       [[ -1.74429268e-03],\n",
       "        [  1.00684799e-02],\n",
       "        [  1.61853284e-02],\n",
       "        [ -7.38602877e-03]],\n",
       "\n",
       "       [[ -2.94423848e-03],\n",
       "        [ -1.45296752e-03],\n",
       "        [  2.28796974e-02],\n",
       "        [ -4.68302816e-02]],\n",
       "\n",
       "       [[ -4.68302816e-02],\n",
       "        [ -1.60653889e-02],\n",
       "        [  1.30661242e-02],\n",
       "        [ -4.68302816e-02]],\n",
       "\n",
       "       [[ -4.68302816e-02],\n",
       "        [ -2.70652268e-02],\n",
       "        [  1.37189440e-02],\n",
       "        [ -4.68302816e-02]],\n",
       "\n",
       "       [[ -4.68302816e-02],\n",
       "        [  2.25233659e-03],\n",
       "        [  1.51119828e-02],\n",
       "        [ -4.68302816e-02]],\n",
       "\n",
       "       [[ -4.68302816e-02],\n",
       "        [ -7.91992992e-04],\n",
       "        [  4.65014949e-03],\n",
       "        [ -4.68302816e-02]],\n",
       "\n",
       "       [[ -4.68302816e-02],\n",
       "        [  8.94291699e-03],\n",
       "        [  6.99648261e-03],\n",
       "        [ -4.68302816e-02]]], dtype=float32)"
      ]
     },
     "execution_count": 91,
     "metadata": {},
     "output_type": "execute_result"
    }
   ],
   "source": [
    "prediction"
   ]
  },
  {
   "cell_type": "code",
   "execution_count": null,
   "metadata": {
    "collapsed": true
   },
   "outputs": [],
   "source": []
  }
 ],
 "metadata": {
  "kernelspec": {
   "display_name": "Python 2",
   "language": "python",
   "name": "python2"
  },
  "language_info": {
   "codemirror_mode": {
    "name": "ipython",
    "version": 2
   },
   "file_extension": ".py",
   "mimetype": "text/x-python",
   "name": "python",
   "nbconvert_exporter": "python",
   "pygments_lexer": "ipython2",
   "version": "2.7.11"
  }
 },
 "nbformat": 4,
 "nbformat_minor": 0
}
