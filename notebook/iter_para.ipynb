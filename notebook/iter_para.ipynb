{
 "cells": [
  {
   "cell_type": "code",
   "execution_count": 1,
   "metadata": {
    "collapsed": false
   },
   "outputs": [],
   "source": [
    "%load_ext autoreload\n",
    "%autoreload 2\n",
    "import sys\n",
    "sys.path.insert(0, '../')"
   ]
  },
  {
   "cell_type": "code",
   "execution_count": 2,
   "metadata": {
    "collapsed": false
   },
   "outputs": [],
   "source": [
    "import numpy as np\n",
    "from seqmodel.data.parallel_text_iterator import *"
   ]
  },
  {
   "cell_type": "code",
   "execution_count": 3,
   "metadata": {
    "collapsed": false
   },
   "outputs": [],
   "source": [
    "vocab = Vocabulary.from_vocab_file('../data/tiny_copy/vocab.txt')\n",
    "loader = Seq2SeqIterator(vocab, vocab)"
   ]
  },
  {
   "cell_type": "code",
   "execution_count": 4,
   "metadata": {
    "collapsed": false
   },
   "outputs": [],
   "source": [
    "loader.initialize('../data/tiny_copy/valid.txt')"
   ]
  },
  {
   "cell_type": "code",
   "execution_count": 5,
   "metadata": {
    "collapsed": false
   },
   "outputs": [],
   "source": [
    "loader.init_batch(4)"
   ]
  },
  {
   "cell_type": "code",
   "execution_count": 6,
   "metadata": {
    "collapsed": false
   },
   "outputs": [
    {
     "name": "stdout",
     "output_type": "stream",
     "text": [
      "Seq2SeqBatchTuple(features=Seq2SeqFeatureTuple(encoder_input=array([[ 1,  1,  1,  1],\n",
      "       [13, 10, 10, 12],\n",
      "       [12,  5,  5, 14],\n",
      "       [ 7, 10, 10,  3],\n",
      "       [10, 11, 12,  3],\n",
      "       [10, 13,  7,  3],\n",
      "       [13, 10,  9,  3],\n",
      "       [ 7, 10, 13,  3],\n",
      "       [ 3,  3,  5,  3],\n",
      "       [ 3,  3,  3,  3]], dtype=int32), encoder_seq_len=array([ 9,  9, 10,  4], dtype=int32), decoder_input=array([[ 2,  2,  2,  2],\n",
      "       [13, 10, 10, 12],\n",
      "       [12,  5,  5, 14],\n",
      "       [ 7, 10, 10,  0],\n",
      "       [10, 11, 12,  0],\n",
      "       [10, 13,  7,  0],\n",
      "       [13, 10,  9,  0],\n",
      "       [ 7, 10, 13,  0],\n",
      "       [ 0,  0,  5,  0]], dtype=int32), decoder_seq_len=array([8, 8, 9, 3], dtype=int32)), labels=Seq2SeqLabelTuple(decoder_label=array([[13, 10, 10, 12],\n",
      "       [12,  5,  5, 14],\n",
      "       [ 7, 10, 10,  0],\n",
      "       [10, 11, 12,  0],\n",
      "       [10, 13,  7,  0],\n",
      "       [13, 10,  9,  0],\n",
      "       [ 7, 10, 13,  0],\n",
      "       [ 0,  0,  5,  0],\n",
      "       [ 0,  0,  0,  0]], dtype=int32), decoder_label_weight=array([[ 1.,  1.,  1.,  1.],\n",
      "       [ 1.,  1.,  1.,  1.],\n",
      "       [ 1.,  1.,  1.,  1.],\n",
      "       [ 1.,  1.,  1.,  0.],\n",
      "       [ 1.,  1.,  1.,  0.],\n",
      "       [ 1.,  1.,  1.,  0.],\n",
      "       [ 1.,  1.,  1.,  0.],\n",
      "       [ 1.,  1.,  1.,  0.],\n",
      "       [ 0.,  0.,  1.,  0.]], dtype=float32), decoder_seq_label=array([ 1.,  1.,  1.,  1.], dtype=float32)), num_tokens=28.0)\n"
     ]
    }
   ],
   "source": [
    "print(loader.next_batch())"
   ]
  },
  {
   "cell_type": "code",
   "execution_count": 7,
   "metadata": {
    "collapsed": false
   },
   "outputs": [
    {
     "name": "stdout",
     "output_type": "stream",
     "text": [
      "334\n"
     ]
    }
   ],
   "source": [
    "nb = 0\n",
    "for b in loader.iterate_epoch(3):\n",
    "    nb += 1\n",
    "print(nb)"
   ]
  },
  {
   "cell_type": "code",
   "execution_count": 8,
   "metadata": {
    "collapsed": false
   },
   "outputs": [
    {
     "data": {
      "text/plain": [
       "array([[ 2,  2,  2],\n",
       "       [ 0,  8,  0],\n",
       "       [ 0,  7,  0],\n",
       "       [ 0,  8,  0],\n",
       "       [ 0, 13,  0],\n",
       "       [ 0, 11,  0],\n",
       "       [ 0,  7,  0],\n",
       "       [ 0, 10,  0],\n",
       "       [ 0, 11,  0]], dtype=int32)"
      ]
     },
     "execution_count": 8,
     "metadata": {},
     "output_type": "execute_result"
    }
   ],
   "source": [
    "b.features.decoder_input"
   ]
  },
  {
   "cell_type": "code",
   "execution_count": 9,
   "metadata": {
    "collapsed": false
   },
   "outputs": [
    {
     "data": {
      "text/plain": [
       "array([[ 0,  8,  0],\n",
       "       [ 0,  7,  0],\n",
       "       [ 0,  8,  0],\n",
       "       [ 0, 13,  0],\n",
       "       [ 0, 11,  0],\n",
       "       [ 0,  7,  0],\n",
       "       [ 0, 10,  0],\n",
       "       [ 0, 11,  0],\n",
       "       [ 0,  0,  0]], dtype=int32)"
      ]
     },
     "execution_count": 9,
     "metadata": {},
     "output_type": "execute_result"
    }
   ],
   "source": [
    "b.labels.decoder_label"
   ]
  },
  {
   "cell_type": "code",
   "execution_count": 10,
   "metadata": {
    "collapsed": false
   },
   "outputs": [
    {
     "data": {
      "text/plain": [
       "array([[ 0.,  1.,  0.],\n",
       "       [ 0.,  1.,  0.],\n",
       "       [ 0.,  1.,  0.],\n",
       "       [ 0.,  1.,  0.],\n",
       "       [ 0.,  1.,  0.],\n",
       "       [ 0.,  1.,  0.],\n",
       "       [ 0.,  1.,  0.],\n",
       "       [ 0.,  1.,  0.],\n",
       "       [ 0.,  1.,  0.]], dtype=float32)"
      ]
     },
     "execution_count": 10,
     "metadata": {},
     "output_type": "execute_result"
    }
   ],
   "source": [
    "b.labels.decoder_label_weight"
   ]
  },
  {
   "cell_type": "code",
   "execution_count": 11,
   "metadata": {
    "collapsed": false
   },
   "outputs": [
    {
     "data": {
      "text/plain": [
       "array([0, 9, 0], dtype=int32)"
      ]
     },
     "execution_count": 11,
     "metadata": {},
     "output_type": "execute_result"
    }
   ],
   "source": [
    "b.features.decoder_seq_len"
   ]
  },
  {
   "cell_type": "code",
   "execution_count": 12,
   "metadata": {
    "collapsed": false
   },
   "outputs": [
    {
     "data": {
      "text/plain": [
       "array([ 0, 10,  0], dtype=int32)"
      ]
     },
     "execution_count": 12,
     "metadata": {},
     "output_type": "execute_result"
    }
   ],
   "source": [
    "b.features.encoder_seq_len"
   ]
  },
  {
   "cell_type": "code",
   "execution_count": 13,
   "metadata": {
    "collapsed": false
   },
   "outputs": [
    {
     "data": {
      "text/plain": [
       "([11, 13], [11, 13], [1.0, 1.0, 1.0], 1.0)"
      ]
     },
     "execution_count": 13,
     "metadata": {},
     "output_type": "execute_result"
    }
   ],
   "source": [
    "loader.data[0]"
   ]
  },
  {
   "cell_type": "code",
   "execution_count": 6,
   "metadata": {
    "collapsed": false
   },
   "outputs": [],
   "source": [
    "ref, init = loader.reset()"
   ]
  },
  {
   "cell_type": "code",
   "execution_count": 7,
   "metadata": {
    "collapsed": false
   },
   "outputs": [
    {
     "data": {
      "text/plain": [
       "Seq2SeqBatchTuple(features=Seq2SeqFeatureTuple(encoder_input=array([[ 1,  1,  1,  1],\n",
       "       [10, 11,  5, 14],\n",
       "       [ 8,  8,  8, 10],\n",
       "       [ 3, 10,  6, 12],\n",
       "       [ 3,  6,  3, 13],\n",
       "       [ 3,  3,  3,  7],\n",
       "       [ 3,  3,  3,  8],\n",
       "       [ 3,  3,  3, 10],\n",
       "       [ 3,  3,  3,  5],\n",
       "       [ 3,  3,  3,  3]], dtype=int32), encoder_seq_len=array([ 4,  6,  5, 10], dtype=int32), decoder_input=array([[ 2,  2,  2,  2],\n",
       "       [10, 11,  5, 14],\n",
       "       [ 8,  8,  8, 10],\n",
       "       [ 0, 10,  6, 12],\n",
       "       [ 0,  6,  0, 13],\n",
       "       [ 0,  0,  0,  7],\n",
       "       [ 0,  0,  0,  8],\n",
       "       [ 0,  0,  0, 10],\n",
       "       [ 0,  0,  0,  5]], dtype=int32), decoder_seq_len=array([3, 5, 4, 9], dtype=int32)), labels=Seq2SeqLabelTuple(decoder_label=array([[10, 11,  5, 14],\n",
       "       [ 8,  8,  8, 10],\n",
       "       [ 0, 10,  6, 12],\n",
       "       [ 0,  6,  0, 13],\n",
       "       [ 0,  0,  0,  7],\n",
       "       [ 0,  0,  0,  8],\n",
       "       [ 0,  0,  0, 10],\n",
       "       [ 0,  0,  0,  5],\n",
       "       [ 0,  0,  0,  0]], dtype=int32), decoder_label_weight=array([[ 1.,  1.,  1.,  1.],\n",
       "       [ 1.,  1.,  1.,  1.],\n",
       "       [ 1.,  1.,  1.,  1.],\n",
       "       [ 0.,  1.,  1.,  1.],\n",
       "       [ 0.,  1.,  0.,  1.],\n",
       "       [ 0.,  0.,  0.,  1.],\n",
       "       [ 0.,  0.,  0.,  1.],\n",
       "       [ 0.,  0.,  0.,  1.],\n",
       "       [ 0.,  0.,  0.,  1.]], dtype=float32), decoder_seq_label=array([ 1.,  1.,  1.,  1.], dtype=float32)), num_tokens=21.0)"
      ]
     },
     "execution_count": 7,
     "metadata": {},
     "output_type": "execute_result"
    }
   ],
   "source": [
    "ref"
   ]
  },
  {
   "cell_type": "code",
   "execution_count": 8,
   "metadata": {
    "collapsed": false
   },
   "outputs": [
    {
     "data": {
      "text/plain": [
       "Seq2SeqBatchTuple(features=Seq2SeqFeatureTuple(encoder_input=array([[ 1,  1,  1,  1],\n",
       "       [10, 11,  5, 14],\n",
       "       [ 8,  8,  8, 10],\n",
       "       [ 3, 10,  6, 12],\n",
       "       [ 3,  6,  3, 13],\n",
       "       [ 3,  3,  3,  7],\n",
       "       [ 3,  3,  3,  8],\n",
       "       [ 3,  3,  3, 10],\n",
       "       [ 3,  3,  3,  5],\n",
       "       [ 3,  3,  3,  3]], dtype=int32), encoder_seq_len=array([ 4,  6,  5, 10], dtype=int32), decoder_input=array([[2, 2, 2, 2]], dtype=int32), decoder_seq_len=array([1, 1, 1, 1], dtype=int32)), labels=Seq2SeqLabelTuple(decoder_label=array([[0, 0, 0, 0]], dtype=int32), decoder_label_weight=array([[ 1.,  1.,  1.,  1.]], dtype=float32), decoder_seq_label=array([ 1.,  1.,  1.,  1.], dtype=float32)), num_tokens=4.0)"
      ]
     },
     "execution_count": 8,
     "metadata": {},
     "output_type": "execute_result"
    }
   ],
   "source": [
    "init"
   ]
  },
  {
   "cell_type": "code",
   "execution_count": 13,
   "metadata": {
    "collapsed": false
   },
   "outputs": [],
   "source": [
    "nobs, done, info = loader.step(init, np.array([5,5,5,5]))"
   ]
  },
  {
   "cell_type": "code",
   "execution_count": 14,
   "metadata": {
    "collapsed": false
   },
   "outputs": [
    {
     "data": {
      "text/plain": [
       "Seq2SeqBatchTuple(features=Seq2SeqFeatureTuple(encoder_input=array([[ 1,  1,  1,  1],\n",
       "       [10, 11,  5, 14],\n",
       "       [ 8,  8,  8, 10],\n",
       "       [ 3, 10,  6, 12],\n",
       "       [ 3,  6,  3, 13],\n",
       "       [ 3,  3,  3,  7],\n",
       "       [ 3,  3,  3,  8],\n",
       "       [ 3,  3,  3, 10],\n",
       "       [ 3,  3,  3,  5],\n",
       "       [ 3,  3,  3,  3]], dtype=int32), encoder_seq_len=array([ 4,  6,  5, 10], dtype=int32), decoder_input=array([[5, 5, 5, 5]], dtype=int32), decoder_seq_len=array([1, 1, 1, 1], dtype=int32)), labels=Seq2SeqLabelTuple(decoder_label=array([[0, 0, 0, 0]], dtype=int32), decoder_label_weight=array([[ 1.,  1.,  1.,  1.]], dtype=float32), decoder_seq_label=array([ 1.,  1.,  1.,  1.], dtype=float32)), num_tokens=4.0)"
      ]
     },
     "execution_count": 14,
     "metadata": {},
     "output_type": "execute_result"
    }
   ],
   "source": [
    "nobs"
   ]
  },
  {
   "cell_type": "code",
   "execution_count": 15,
   "metadata": {
    "collapsed": false
   },
   "outputs": [
    {
     "data": {
      "text/plain": [
       "array([False, False, False, False], dtype=bool)"
      ]
     },
     "execution_count": 15,
     "metadata": {},
     "output_type": "execute_result"
    }
   ],
   "source": [
    "done"
   ]
  },
  {
   "cell_type": "code",
   "execution_count": 16,
   "metadata": {
    "collapsed": true
   },
   "outputs": [],
   "source": [
    "nobs, done, info = loader.step(init, np.array([0,0,0,0]))"
   ]
  },
  {
   "cell_type": "code",
   "execution_count": 17,
   "metadata": {
    "collapsed": false
   },
   "outputs": [
    {
     "data": {
      "text/plain": [
       "Seq2SeqBatchTuple(features=Seq2SeqFeatureTuple(encoder_input=array([[ 1,  1,  1,  1],\n",
       "       [10, 11,  5, 14],\n",
       "       [ 8,  8,  8, 10],\n",
       "       [ 3, 10,  6, 12],\n",
       "       [ 3,  6,  3, 13],\n",
       "       [ 3,  3,  3,  7],\n",
       "       [ 3,  3,  3,  8],\n",
       "       [ 3,  3,  3, 10],\n",
       "       [ 3,  3,  3,  5],\n",
       "       [ 3,  3,  3,  3]], dtype=int32), encoder_seq_len=array([ 4,  6,  5, 10], dtype=int32), decoder_input=array([[0, 0, 0, 0]], dtype=int32), decoder_seq_len=array([0, 0, 0, 0], dtype=int32)), labels=Seq2SeqLabelTuple(decoder_label=array([[0, 0, 0, 0]], dtype=int32), decoder_label_weight=array([[ 1.,  1.,  1.,  1.]], dtype=float32), decoder_seq_label=array([ 1.,  1.,  1.,  1.], dtype=float32)), num_tokens=0.0)"
      ]
     },
     "execution_count": 17,
     "metadata": {},
     "output_type": "execute_result"
    }
   ],
   "source": [
    "nobs"
   ]
  },
  {
   "cell_type": "code",
   "execution_count": 18,
   "metadata": {
    "collapsed": false
   },
   "outputs": [
    {
     "data": {
      "text/plain": [
       "array([ True,  True,  True,  True], dtype=bool)"
      ]
     },
     "execution_count": 18,
     "metadata": {},
     "output_type": "execute_result"
    }
   ],
   "source": [
    "done"
   ]
  },
  {
   "cell_type": "code",
   "execution_count": null,
   "metadata": {
    "collapsed": true
   },
   "outputs": [],
   "source": []
  }
 ],
 "metadata": {
  "kernelspec": {
   "display_name": "Python 2",
   "language": "python",
   "name": "python2"
  },
  "language_info": {
   "codemirror_mode": {
    "name": "ipython",
    "version": 2
   },
   "file_extension": ".py",
   "mimetype": "text/x-python",
   "name": "python",
   "nbconvert_exporter": "python",
   "pygments_lexer": "ipython2",
   "version": "2.7.11"
  }
 },
 "nbformat": 4,
 "nbformat_minor": 0
}
