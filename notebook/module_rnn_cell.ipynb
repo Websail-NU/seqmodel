{
 "cells": [
  {
   "cell_type": "code",
   "execution_count": 1,
   "metadata": {
    "collapsed": true
   },
   "outputs": [],
   "source": [
    "import sys\n",
    "import time\n",
    "import tensorflow as tf\n",
    "import numpy as np\n",
    "sys.path.insert(0, '../')\n",
    "%load_ext autoreload\n",
    "%autoreload 2"
   ]
  },
  {
   "cell_type": "code",
   "execution_count": 2,
   "metadata": {
    "collapsed": false
   },
   "outputs": [],
   "source": [
    "from seqmodel.bunch import Bunch\n",
    "from seqmodel.model.module import rnn_cells\n",
    "from seqmodel.model import rnn_module"
   ]
  },
  {
   "cell_type": "code",
   "execution_count": 25,
   "metadata": {
    "collapsed": false
   },
   "outputs": [
    {
     "name": "stdout",
     "output_type": "stream",
     "text": [
      "encoder/rnn/basic_lstm_cell/weights:0\n",
      "encoder/rnn/basic_lstm_cell/biases:0\n"
     ]
    }
   ],
   "source": [
    "tf.reset_default_graph()\n",
    "batch_size = 4\n",
    "max_time = 5\n",
    "dim = 3\n",
    "cell_dim = 2\n",
    "input_data = np.random.randn(max_time, batch_size, dim).astype(np.float32)\n",
    "seq_len_data = np.array([4, 3, 2, 1], dtype=np.int32)\n",
    "first_output = np.random.randn(batch_size, cell_dim).astype(np.float32)\n",
    "inputs = tf.constant(input_data, dtype=tf.float32)\n",
    "seq_len = tf.constant(seq_len_data)\n",
    "share_rnn_opt = rnn_module.BasicRNNModule.default_opt()\n",
    "share_rnn_opt.rnn_cell.cell_opt.num_units = cell_dim\n",
    "share_rnn_opt.create_zero_initial_state = True\n",
    "share_rnn_opt.logit=None\n",
    "share_rnn_opt.rnn_cell.cell_class\n",
    "enc = rnn_module.BasicRNNModule(share_rnn_opt, name='encoder')(inputs, seq_len)\n",
    "for v in tf.trainable_variables():\n",
    "    print(v.name)"
   ]
  },
  {
   "cell_type": "code",
   "execution_count": 65,
   "metadata": {
    "collapsed": false
   },
   "outputs": [],
   "source": [
    "sess_config = tf.ConfigProto(device_count={'GPU': 0})\n",
    "sess = tf.Session(config=sess_config)\n",
    "sess.run(tf.global_variables_initializer())\n"
   ]
  },
  {
   "cell_type": "code",
   "execution_count": 71,
   "metadata": {
    "collapsed": false
   },
   "outputs": [
    {
     "name": "stdout",
     "output_type": "stream",
     "text": [
      "[OutputToInputStateTuple(state=LSTMStateTuple(c=array([[ 0.,  0.],\n",
      "       [ 0.,  0.],\n",
      "       [ 0.,  0.],\n",
      "       [ 0.,  0.]], dtype=float32), h=array([[ 0.,  0.],\n",
      "       [ 0.,  0.],\n",
      "       [ 0.,  0.],\n",
      "       [ 0.,  0.]], dtype=float32)), output=array([[ 0.0785614 ,  0.51012033],\n",
      "       [ 0.56420118, -0.75726998],\n",
      "       [ 0.25703451,  1.73136818],\n",
      "       [-0.17974873,  0.48394176]], dtype=float32)), OutputToInputStateTuple(state=LSTMStateTuple(c=array([[ 0.05315012, -0.03422486],\n",
      "       [ 0.06633939,  0.06921557],\n",
      "       [ 0.24002026, -0.20174295],\n",
      "       [-0.03293049, -0.0953301 ]], dtype=float32), h=array([[ 0.02638773, -0.01719238],\n",
      "       [ 0.03324401,  0.03618468],\n",
      "       [ 0.11379175, -0.09651362],\n",
      "       [-0.01517337, -0.04817434]], dtype=float32)), output=array([[ 0.02638773, -0.01719238],\n",
      "       [ 0.03324401,  0.03618468],\n",
      "       [ 0.11379175, -0.09651362],\n",
      "       [-0.01517337, -0.04817434]], dtype=float32)), array([[[ 0.02904397, -0.06188283],\n",
      "        [ 0.07783409,  0.06721009],\n",
      "        [ 0.08548655, -0.18370511],\n",
      "        [-0.01517337, -0.04817434]],\n",
      "\n",
      "       [[ 0.03189436, -0.03842185],\n",
      "        [ 0.04923087,  0.05093152],\n",
      "        [ 0.11379175, -0.09651362],\n",
      "        [ 0.        ,  0.        ]],\n",
      "\n",
      "       [[ 0.02960609, -0.02596317],\n",
      "        [ 0.03324401,  0.03618468],\n",
      "        [ 0.        ,  0.        ],\n",
      "        [ 0.        ,  0.        ]],\n",
      "\n",
      "       [[ 0.02638773, -0.01719238],\n",
      "        [ 0.        ,  0.        ],\n",
      "        [ 0.        ,  0.        ],\n",
      "        [ 0.        ,  0.        ]],\n",
      "\n",
      "       [[ 0.        ,  0.        ],\n",
      "        [ 0.        ,  0.        ],\n",
      "        [ 0.        ,  0.        ],\n",
      "        [ 0.        ,  0.        ]]], dtype=float32)]\n"
     ]
    }
   ],
   "source": [
    "zero_state = sess.run(enc.initial_state)\n",
    "res = sess.run([enc.initial_state, enc.final_state, enc.cell_output], {seq_len:seq_len_data, \n",
    "                     enc.initial_state.output:first_output, \n",
    "                     enc.initial_state.state:zero_state.state})\n",
    "print(res)"
   ]
  },
  {
   "cell_type": "code",
   "execution_count": 11,
   "metadata": {
    "collapsed": false
   },
   "outputs": [
    {
     "name": "stdout",
     "output_type": "stream",
     "text": [
      "cell_output: Tensor(\"encoder_1/rnn/TensorArrayStack/TensorArrayGatherV3:0\", shape=(5, 4, 2), dtype=float32)\n",
      "final_state: OutputToInputStateTuple(state=LSTMStateTuple(c=<tf.Tensor 'encoder_1/rnn/while/Exit_2:0' shape=(?, 2) dtype=float32>, h=<tf.Tensor 'encoder_1/rnn/while/Exit_3:0' shape=(?, 2) dtype=float32>), output=<tf.Tensor 'encoder_1/rnn/while/Exit_4:0' shape=(?, 2) dtype=float32>)\n",
      "initial_state: OutputToInputStateTuple(state=LSTMStateTuple(c=<tf.Tensor 'encoder_1/zeros:0' shape=(?, 2) dtype=float32>, h=<tf.Tensor 'encoder_1/zeros_1:0' shape=(?, 2) dtype=float32>), output=<tf.Tensor 'encoder_1/zeros_2:0' shape=(?, 2) dtype=float32>)\n"
     ]
    }
   ],
   "source": [
    "print(enc.to_pretty())"
   ]
  },
  {
   "cell_type": "code",
   "execution_count": 34,
   "metadata": {
    "collapsed": false
   },
   "outputs": [
    {
     "data": {
      "text/plain": [
       "OutputToInputStateTuple(state=LSTMStateTuple(c=array([[ 0.,  0.],\n",
       "       [ 0.,  0.],\n",
       "       [ 0.,  0.],\n",
       "       [ 0.,  0.]], dtype=float32), h=array([[ 0.,  0.],\n",
       "       [ 0.,  0.],\n",
       "       [ 0.,  0.],\n",
       "       [ 0.,  0.]], dtype=float32)), output=array([[ 0.,  0.],\n",
       "       [ 0.,  0.],\n",
       "       [ 0.,  0.],\n",
       "       [ 0.,  0.]], dtype=float32))"
      ]
     },
     "execution_count": 34,
     "metadata": {},
     "output_type": "execute_result"
    }
   ],
   "source": [
    "zero_state"
   ]
  },
  {
   "cell_type": "code",
   "execution_count": null,
   "metadata": {
    "collapsed": true
   },
   "outputs": [],
   "source": []
  }
 ],
 "metadata": {
  "kernelspec": {
   "display_name": "Python 2",
   "language": "python",
   "name": "python2"
  },
  "language_info": {
   "codemirror_mode": {
    "name": "ipython",
    "version": 2
   },
   "file_extension": ".py",
   "mimetype": "text/x-python",
   "name": "python",
   "nbconvert_exporter": "python",
   "pygments_lexer": "ipython2",
   "version": "2.7.11"
  }
 },
 "nbformat": 4,
 "nbformat_minor": 0
}
