{
 "cells": [
  {
   "cell_type": "code",
   "execution_count": 1,
   "metadata": {
    "collapsed": true
   },
   "outputs": [],
   "source": [
    "import sys\n",
    "import time\n",
    "import tensorflow as tf\n",
    "import numpy as np\n",
    "sys.path.insert(0, '../')\n",
    "%load_ext autoreload\n",
    "%autoreload 2"
   ]
  },
  {
   "cell_type": "code",
   "execution_count": 2,
   "metadata": {
    "collapsed": false
   },
   "outputs": [],
   "source": [
    "from seqmodel.bunch import Bunch\n",
    "from seqmodel.experiment.basic_agent import BasicAgent\n",
    "from seqmodel import model\n",
    "from seqmodel import data"
   ]
  },
  {
   "cell_type": "code",
   "execution_count": 3,
   "metadata": {
    "collapsed": true
   },
   "outputs": [],
   "source": [
    "vocab = data.Vocabulary.from_vocab_file('../data/tiny_single/vocab.txt')\n",
    "valid_iter = data.TokenIterator(vocab, vocab)\n",
    "valid_iter.initialize('../data/tiny_single/valid.txt')"
   ]
  },
  {
   "cell_type": "code",
   "execution_count": 4,
   "metadata": {
    "collapsed": false
   },
   "outputs": [
    {
     "name": "stderr",
     "output_type": "stream",
     "text": [
      "\u001b[36m[INFO ]\u001b[0mep: 0, lr: 1.000000\n",
      "\u001b[36m[INFO ]\u001b[0m@65 tr_loss: 21.43669, eval_loss: 2.14982, wps: 6006.0\n",
      "\u001b[36m[INFO ]\u001b[0m@65 tr_loss: 0.00000, eval_loss: 1.64240, wps: 18469.2\n",
      "\u001b[36m[INFO ]\u001b[0mep: 1, lr: 1.000000\n",
      "\u001b[36m[INFO ]\u001b[0m@65 tr_loss: 16.48519, eval_loss: 1.65442, wps: 7685.3\n",
      "\u001b[36m[INFO ]\u001b[0m@65 tr_loss: 0.00000, eval_loss: 1.55468, wps: 20199.7\n",
      "\u001b[36m[INFO ]\u001b[0mep: 2, lr: 1.000000\n",
      "\u001b[36m[INFO ]\u001b[0m@65 tr_loss: 15.87948, eval_loss: 1.59381, wps: 7653.3\n",
      "\u001b[36m[INFO ]\u001b[0m@65 tr_loss: 0.00000, eval_loss: 1.53216, wps: 20174.4\n",
      "\u001b[36m[INFO ]\u001b[0mep: 3, lr: 1.000000\n",
      "\u001b[36m[INFO ]\u001b[0m@65 tr_loss: 15.61385, eval_loss: 1.56721, wps: 7834.0\n",
      "\u001b[36m[INFO ]\u001b[0m@65 tr_loss: 0.00000, eval_loss: 1.51912, wps: 20036.2\n",
      "\u001b[36m[INFO ]\u001b[0mep: 4, lr: 1.000000\n",
      "\u001b[36m[INFO ]\u001b[0m@65 tr_loss: 15.45464, eval_loss: 1.55125, wps: 7802.0\n",
      "\u001b[36m[INFO ]\u001b[0m@65 tr_loss: 0.00000, eval_loss: 1.51002, wps: 20051.3\n",
      "\u001b[36m[INFO ]\u001b[0mep: 5, lr: 1.000000\n",
      "\u001b[36m[INFO ]\u001b[0m@65 tr_loss: 15.34526, eval_loss: 1.54028, wps: 7752.7\n",
      "\u001b[36m[INFO ]\u001b[0m@65 tr_loss: 0.00000, eval_loss: 1.50360, wps: 19822.2\n",
      "\u001b[36m[INFO ]\u001b[0mep: 6, lr: 0.800000\n",
      "\u001b[36m[INFO ]\u001b[0m@65 tr_loss: 14.80958, eval_loss: 1.48652, wps: 7673.7\n",
      "\u001b[36m[INFO ]\u001b[0m@65 tr_loss: 0.00000, eval_loss: 1.47579, wps: 19937.0\n",
      "\u001b[36m[INFO ]\u001b[0mep: 7, lr: 0.800000\n",
      "\u001b[36m[INFO ]\u001b[0m@65 tr_loss: 14.77933, eval_loss: 1.48347, wps: 7776.8\n",
      "\u001b[36m[INFO ]\u001b[0m@65 tr_loss: 0.00000, eval_loss: 1.47356, wps: 19101.2\n",
      "\u001b[36m[INFO ]\u001b[0mep: 8, lr: 0.800000\n",
      "\u001b[36m[INFO ]\u001b[0m@65 tr_loss: 14.74957, eval_loss: 1.48046, wps: 7731.1\n",
      "\u001b[36m[INFO ]\u001b[0m@65 tr_loss: 0.00000, eval_loss: 1.47148, wps: 19976.1\n",
      "\u001b[36m[INFO ]\u001b[0mep: 9, lr: 0.800000\n"
     ]
    },
    {
     "name": "stdout",
     "output_type": "stream",
     "text": [
      "(1.4692451770866513, 0.3286709785461426)\n"
     ]
    }
   ],
   "source": [
    "tf.reset_default_graph()\n",
    "agent_opt = Bunch(BasicAgent.default_opt(),\n",
    "                  model=Bunch(model_class='seqmodel.model.seq_model.BasicSeqModel',\n",
    "                              model_opt=model.seq_model.BasicSeqModel.default_opt()))\n",
    "# sess_config = tf.ConfigProto(device_count={'GPU': 0})\n",
    "# sess = tf.Session(config = sess_config)\n",
    "sess = tf.Session()\n",
    "agent = BasicAgent(agent_opt, sess)\n",
    "agent.initialize_model(with_training=True)\n",
    "agent.initialize_optim()\n",
    "sess.run(tf.global_variables_initializer())\n",
    "agent.train(valid_iter, 10, valid_iter, 10, verbose=True)\n",
    "info = agent.evaluate(valid_iter, 10)\n",
    "print(info.eval_cost/info.num_tokens, info.end_time - info.start_time)\n",
    "#     tr._build_train_op(train_model.losses.training_loss)\n",
    "#     print('variables:')\n",
    "#     for v in tf.global_variables():\n",
    "#         print('{}, {}'.format(v.name, v.get_shape()))\n",
    "#     print('\\nnodes:')\n",
    "#     for n in tf.get_default_graph().as_graph_def().node:\n",
    "#         print(n.name)"
   ]
  },
  {
   "cell_type": "code",
   "execution_count": 5,
   "metadata": {
    "collapsed": false
   },
   "outputs": [],
   "source": [
    "test_data = (['a'])\n",
    "test_iter = data.TokenIterator(vocab, vocab)\n",
    "test_iter.initialize(test_data)\n",
    "test_iter.init_batch(1)\n",
    "env = data.environment.Env(test_iter, re_init=False)"
   ]
  },
  {
   "cell_type": "code",
   "execution_count": 6,
   "metadata": {
    "collapsed": false
   },
   "outputs": [],
   "source": [
    "res, tr = agent.sample(env, greedy=True)"
   ]
  },
  {
   "cell_type": "code",
   "execution_count": 7,
   "metadata": {
    "collapsed": false
   },
   "outputs": [
    {
     "data": {
      "text/plain": [
       "[SampleOutputTuple(batch=SeqTuple(features=SeqFeatureTuple(inputs=array([[0],\n",
       "       [5]], dtype=int32), input_seq_len=array([2], dtype=int32)), labels=SeqLabelTuple(label=array([[0]], dtype=int32), label_weight=array([[ 1.]], dtype=float32)), new_seq=True, num_tokens=2.0), samples=[array([[13],\n",
       "       [10],\n",
       "       [ 0]])], scores=[array([[ 0.41073492],\n",
       "       [ 0.27252451],\n",
       "       [ 0.2199703 ]], dtype=float32)])]"
      ]
     },
     "execution_count": 7,
     "metadata": {},
     "output_type": "execute_result"
    }
   ],
   "source": [
    "res"
   ]
  },
  {
   "cell_type": "code",
   "execution_count": 8,
   "metadata": {
    "collapsed": false
   },
   "outputs": [
    {
     "data": {
      "text/plain": [
       "SeqLabelTuple(label=array([[0]], dtype=int32), label_weight=array([[ 1.]], dtype=float32))"
      ]
     },
     "execution_count": 8,
     "metadata": {},
     "output_type": "execute_result"
    }
   ],
   "source": [
    "res[0].batch.labels"
   ]
  },
  {
   "cell_type": "code",
   "execution_count": 9,
   "metadata": {
    "collapsed": false
   },
   "outputs": [
    {
     "data": {
      "text/plain": [
       "[array([[13],\n",
       "        [10],\n",
       "        [ 0]])]"
      ]
     },
     "execution_count": 9,
     "metadata": {},
     "output_type": "execute_result"
    }
   ],
   "source": [
    "res[0].samples"
   ]
  },
  {
   "cell_type": "code",
   "execution_count": 10,
   "metadata": {
    "collapsed": false
   },
   "outputs": [
    {
     "data": {
      "text/plain": [
       "[array([[ 0.41073492],\n",
       "        [ 0.27252451],\n",
       "        [ 0.2199703 ]], dtype=float32)]"
      ]
     },
     "execution_count": 10,
     "metadata": {},
     "output_type": "execute_result"
    }
   ],
   "source": [
    "res[0].scores"
   ]
  },
  {
   "cell_type": "code",
   "execution_count": 13,
   "metadata": {
    "collapsed": false
   },
   "outputs": [
    {
     "data": {
      "text/plain": [
       "array([[0],\n",
       "       [5]], dtype=int32)"
      ]
     },
     "execution_count": 13,
     "metadata": {},
     "output_type": "execute_result"
    }
   ],
   "source": [
    "tr[0][0].state.features.inputs"
   ]
  },
  {
   "cell_type": "code",
   "execution_count": 14,
   "metadata": {
    "collapsed": false
   },
   "outputs": [
    {
     "data": {
      "text/plain": [
       "array([[13]], dtype=int32)"
      ]
     },
     "execution_count": 14,
     "metadata": {},
     "output_type": "execute_result"
    }
   ],
   "source": [
    "tr[0][1].state.features.inputs"
   ]
  },
  {
   "cell_type": "code",
   "execution_count": 17,
   "metadata": {
    "collapsed": false
   },
   "outputs": [
    {
     "data": {
      "text/plain": [
       "array([0])"
      ]
     },
     "execution_count": 17,
     "metadata": {},
     "output_type": "execute_result"
    }
   ],
   "source": [
    "tr[0][2].action"
   ]
  },
  {
   "cell_type": "code",
   "execution_count": null,
   "metadata": {
    "collapsed": true
   },
   "outputs": [],
   "source": []
  }
 ],
 "metadata": {
  "kernelspec": {
   "display_name": "Python 2",
   "language": "python",
   "name": "python2"
  },
  "language_info": {
   "codemirror_mode": {
    "name": "ipython",
    "version": 2
   },
   "file_extension": ".py",
   "mimetype": "text/x-python",
   "name": "python",
   "nbconvert_exporter": "python",
   "pygments_lexer": "ipython2",
   "version": "2.7.11"
  }
 },
 "nbformat": 4,
 "nbformat_minor": 0
}
